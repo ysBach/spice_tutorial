{
 "cells": [
  {
   "cell_type": "code",
   "execution_count": 1,
   "metadata": {},
   "outputs": [],
   "source": [
    "# Import the standard modules\n",
    "import datetime\n",
    "import pathlib\n",
    "import sqlite3\n",
    "\n",
    "# Import installed modules\n",
    "import pandas as pd\n",
    "import numpy as np\n",
    "import spiceypy\n",
    "\n",
    "# Import the Python script func from the auxiliary folder\n",
    "import sys\n",
    "sys.path.insert(1, '../_auxiliary')\n",
    "import func"
   ]
  },
  {
   "cell_type": "code",
   "execution_count": 2,
   "metadata": {},
   "outputs": [],
   "source": [
    "# Set a local download path and the URL to the comet data from the Minor\n",
    "# Planet Center\n",
    "DL_PATH = 'raw_data/'\n",
    "DL_URL = 'https://www.minorplanetcenter.net/Extended_Files/cometels.json.gz'\n",
    "\n",
    "# Download the comet data and store them in the directory\n",
    "func.download_file(DL_PATH, DL_URL)"
   ]
  },
  {
   "cell_type": "code",
   "execution_count": 3,
   "metadata": {},
   "outputs": [],
   "source": [
    "# Load the SPICE kernel meta file\n",
    "spiceypy.furnsh('kernel_meta.txt')"
   ]
  },
  {
   "cell_type": "code",
   "execution_count": 4,
   "metadata": {},
   "outputs": [],
   "source": [
    "# Read the g-zipped json file with pandas read_json. The function allows one\n",
    "# to read compressed data\n",
    "c_df = pd.read_json('raw_data/cometels.json.gz', compression='gzip')"
   ]
  },
  {
   "cell_type": "code",
   "execution_count": 5,
   "metadata": {},
   "outputs": [],
   "source": [
    "# First we parse the date and time information. The dataset contains two\n",
    "# time related information: the date-time of the last perihelion passage and\n",
    "# another variable called Epoch. However, \"epoch\" is not related to the mean\n",
    "# anomaly related epoch and represents other time information in this case.\n",
    "#\n",
    "# For our \"actual\" Epoch case we need to create a UTC time string based on the\n",
    "# date and time of the last perihelion passage (the time corresponds to a mean\n",
    "# anomaly of 0 degrees). The Day is given in DAY.FRACTION_OF_DAY. We extract\n",
    "# only the day\n",
    "c_df.loc[:, 'EPOCH_UTC_DATE'] = \\\n",
    "    c_df.apply(lambda x: str(x['Year_of_perihelion']) + '-' \\\n",
    "                         + str(x['Month_of_perihelion']) + '-' \\\n",
    "                         + str(x['Day_of_perihelion']).split('.')[0], \\\n",
    "               axis=1)\n",
    "\n",
    "# Now we need to parse the .FRACTION_OF_DAY given between (0.0, 1.0). First,\n",
    "# create a place-holder date\n",
    "PRE_TIME = datetime.datetime(year=2000, month=1, day=1)\n",
    "\n",
    "# Use the pre_time date-time object and add the days and fraction of days with\n",
    "# the timedelta function from the datetime library. Extract only the time\n",
    "# substring ...\n",
    "c_df.loc[:, 'EPOCH_UTC_TIME'] = \\\n",
    "    c_df['Day_of_perihelion'] \\\n",
    "        .apply(lambda x: (PRE_TIME + datetime.timedelta(days=x)).\\\n",
    "                                                          strftime('%H:%M:%S'))\n",
    "\n",
    "# ... and based with the date, create now the UTC date-time\n",
    "c_df.loc[:, 'EPOCH_UTC'] = c_df.apply(lambda x: x['EPOCH_UTC_DATE'] \\\n",
    "                                                + 'T' \\\n",
    "                                                + x['EPOCH_UTC_TIME'],\\\n",
    "                                      axis=1)\n",
    "\n",
    "# Convert the UTC datetime to ET\n",
    "c_df.loc[:, 'EPOCH_ET'] = c_df['EPOCH_UTC'].apply(lambda x: spiceypy.utc2et(x))"
   ]
  },
  {
   "cell_type": "code",
   "execution_count": 6,
   "metadata": {},
   "outputs": [],
   "source": [
    "# Let's compute a state vector of the comet Hale-Bopp as an example\n",
    "\n",
    "# Extract the G*M value of the Sun and assign it to a constant\n",
    "_, GM_SUN_PRE = spiceypy.bodvcd(bodyid=10, item='GM', maxn=1)\n",
    "GM_SUN = GM_SUN_PRE[0]\n",
    "\n",
    "# Get the Hale-Bopp data\n",
    "HALE_BOPP_DF = c_df.loc[c_df['Designation_and_name'].str.contains('Hale-Bopp')]\n",
    "\n",
    "# Set an array with orbital elements in a required format for the conics\n",
    "# function. Note: the mean anomaly is 0 degrees and will be set as a default\n",
    "# value in the SQLite database\n",
    "HALE_BOPP_ORB_ELEM = [spiceypy.convrt(HALE_BOPP_DF['Perihelion_dist'] \\\n",
    "                                      .iloc[0], 'AU', 'km'), \\\n",
    "                      HALE_BOPP_DF['e'].iloc[0], \\\n",
    "                      np.radians(HALE_BOPP_DF['i'].iloc[0]), \\\n",
    "                      np.radians(HALE_BOPP_DF['Node'].iloc[0]), \\\n",
    "                      np.radians(HALE_BOPP_DF['Peri'].iloc[0]), \\\n",
    "                      0.0, \\\n",
    "                      HALE_BOPP_DF['EPOCH_ET'].iloc[0], \\\n",
    "                      GM_SUN]"
   ]
  },
  {
   "cell_type": "code",
   "execution_count": 7,
   "metadata": {},
   "outputs": [
    {
     "name": "stdout",
     "output_type": "stream",
     "text": [
      "Comparison of the computed state \n",
      "vector with the NASA HORIZONS results\n",
      "==========================================\n",
      "X in km (Comp): 5.347972e+08\n",
      "X in km (NASA): 5.348377806424425E+08\n",
      "==========================================\n",
      "Y in km (Comp): -2.702078e+09\n",
      "Y in km (NASA): -2.702225247057124E+09\n",
      "==========================================\n",
      "Z in km (Comp): -5.904119e+09\n",
      "Z in km (NASA): -5.904425343521862E+09\n",
      "==========================================\n",
      "VX in km/s (Comp): 6.856500e-01\n",
      "VX in km/s (NASA): 6.857065492623227E-01\n",
      "==========================================\n",
      "VY in km/s (Comp): -3.265125e+00\n",
      "VY in km/s (NASA): -3.265390887669909E+00\n",
      "==========================================\n",
      "VZ in km/s (Comp): -4.968756e+00\n",
      "VZ in km/s (NASA): -3.265390887669909E+00\n"
     ]
    }
   ],
   "source": [
    "# Compute the state vector for midnight 2020-05-10\n",
    "HALE_BOPP_ST_VEC = spiceypy.conics(HALE_BOPP_ORB_ELEM, \\\n",
    "                                   spiceypy.utc2et('2020-05-10'))\n",
    "\n",
    "# Compare with results from https://ssd.jpl.nasa.gov/horizons.cgi\n",
    "print('Comparison of the computed state \\n' \\\n",
    "      'vector with the NASA HORIZONS results')\n",
    "print('==========================================')\n",
    "print(f'X in km (Comp): {HALE_BOPP_ST_VEC[0]:e}')\n",
    "print('X in km (NASA): 5.348377806424425E+08')\n",
    "print('==========================================')\n",
    "print(f'Y in km (Comp): {HALE_BOPP_ST_VEC[1]:e}')\n",
    "print('Y in km (NASA): -2.702225247057124E+09')\n",
    "print('==========================================')\n",
    "print(f'Z in km (Comp): {HALE_BOPP_ST_VEC[2]:e}')\n",
    "print('Z in km (NASA): -5.904425343521862E+09')\n",
    "print('==========================================')\n",
    "print(f'VX in km/s (Comp): {HALE_BOPP_ST_VEC[3]:e}')\n",
    "print('VX in km/s (NASA): 6.857065492623227E-01')\n",
    "print('==========================================')\n",
    "print(f'VY in km/s (Comp): {HALE_BOPP_ST_VEC[4]:e}')\n",
    "print('VY in km/s (NASA): -3.265390887669909E+00')\n",
    "print('==========================================')\n",
    "print(f'VZ in km/s (Comp): {HALE_BOPP_ST_VEC[5]:e}')\n",
    "print('VZ in km/s (NASA): -3.265390887669909E+00')"
   ]
  },
  {
   "cell_type": "code",
   "execution_count": 8,
   "metadata": {},
   "outputs": [],
   "source": [
    "# Compute the semi-major axis for closed orbits ...\n",
    "c_df.loc[:, 'SEMI_MAJOR_AXIS_AU'] = \\\n",
    "    c_df.apply(lambda x: x['Perihelion_dist'] / (1.0 - x['e']) if x['e'] < 1 \\\n",
    "                         else np.nan, \\\n",
    "               axis=1)\n",
    "\n",
    "# ... as well as the aphelion (if applicable)\n",
    "c_df.loc[:, 'APHELION_AU'] = \\\n",
    "    c_df.apply(lambda x: (1.0 + x['e']) * x['SEMI_MAJOR_AXIS_AU'] \\\n",
    "                         if x['e'] < 1 else np.nan, \\\n",
    "               axis=1)"
   ]
  },
  {
   "cell_type": "code",
   "execution_count": 9,
   "metadata": {},
   "outputs": [
    {
     "data": {
      "text/plain": [
       "<sqlite3.Cursor at 0x7fde1dd64a40>"
      ]
     },
     "execution_count": 9,
     "metadata": {},
     "output_type": "execute_result"
    }
   ],
   "source": [
    "# Create a sub-directory in the main directory of this repository, where a\n",
    "# comet database shall be stored\n",
    "pathlib.Path('../_databases/_comets/').mkdir(parents=True, exist_ok=True)\n",
    "\n",
    "# Create / Connect to a comet database and set the cursor\n",
    "con = sqlite3.connect('../_databases/_comets/mpc_comets.db')\n",
    "cur = con.cursor()\n",
    "\n",
    "# Create (if not existing) a comets' main table, where miscellaneous\n",
    "# parameters are stored\n",
    "cur.execute('CREATE TABLE IF NOT EXISTS ' \\\n",
    "            'comets_main(NAME TEXT PRIMARY KEY, ' \\\n",
    "                        'ORBIT_TYPE TEXT, ' \\\n",
    "                        'PERIHELION_AU REAL, ' \\\n",
    "                        'SEMI_MAJOR_AXIS_AU REAL, ' \\\n",
    "                        'APHELION_AU REAL, ' \\\n",
    "                        'ECCENTRICITY REAL, ' \\\n",
    "                        'INCLINATION_DEG REAL, ' \\\n",
    "                        'ARG_OF_PERIH_DEG REAL, ' \\\n",
    "                        'LONG_OF_ASC_NODE_DEG REAL, ' \\\n",
    "                        'MEAN_ANOMALY_DEG REAL DEFAULT 0.0, ' \\\n",
    "                        'EPOCH_UTC TEXT, ' \\\n",
    "                        'EPOCH_ET REAL, ' \\\n",
    "                        'ABSOLUTE_MAGNITUDE REAL, ' \\\n",
    "                        'SLOPE_PARAMETER REAL'\n",
    "                        ')')"
   ]
  },
  {
   "cell_type": "code",
   "execution_count": 10,
   "metadata": {},
   "outputs": [],
   "source": [
    "# Insert the data\n",
    "cur.executemany('INSERT OR REPLACE INTO ' \\\n",
    "                'comets_main(NAME, ' \\\n",
    "                            'ORBIT_TYPE, ' \\\n",
    "                            'PERIHELION_AU, ' \\\n",
    "                            'SEMI_MAJOR_AXIS_AU, ' \\\n",
    "                            'APHELION_AU, ' \\\n",
    "                            'ECCENTRICITY, ' \\\n",
    "                            'INCLINATION_DEG, ' \\\n",
    "                            'ARG_OF_PERIH_DEG, ' \\\n",
    "                            'LONG_OF_ASC_NODE_DEG, ' \\\n",
    "                            'EPOCH_UTC, ' \\\n",
    "                            'EPOCH_ET, ' \\\n",
    "                            'ABSOLUTE_MAGNITUDE, ' \\\n",
    "                            'SLOPE_PARAMETER'\n",
    "                            ') ' \\\n",
    "                'VALUES(?, ?, ?, ?, ?, ?, ?, ?, ?, ?, ?, ?, ?)', \\\n",
    "                c_df[['Designation_and_name', \\\n",
    "                      'Orbit_type', \\\n",
    "                      'Perihelion_dist', \\\n",
    "                      'SEMI_MAJOR_AXIS_AU', \\\n",
    "                      'APHELION_AU', \\\n",
    "                      'e', \\\n",
    "                      'i', \\\n",
    "                      'Peri', \\\n",
    "                      'Node', \\\n",
    "                      'EPOCH_UTC', \\\n",
    "                      'EPOCH_ET', \\\n",
    "                      'H', \\\n",
    "                      'G']].values)\n",
    "\n",
    "# Commit\n",
    "con.commit()\n",
    "\n",
    "# Close the database. The database shall be the fundament for the next\n",
    "# tutorial sessions\n",
    "con.close()"
   ]
  }
 ],
 "metadata": {
  "kernelspec": {
   "display_name": "Python 3",
   "language": "python",
   "name": "python3"
  },
  "language_info": {
   "codemirror_mode": {
    "name": "ipython",
    "version": 3
   },
   "file_extension": ".py",
   "mimetype": "text/x-python",
   "name": "python",
   "nbconvert_exporter": "python",
   "pygments_lexer": "ipython3",
   "version": "3.8.2"
  }
 },
 "nbformat": 4,
 "nbformat_minor": 4
}
