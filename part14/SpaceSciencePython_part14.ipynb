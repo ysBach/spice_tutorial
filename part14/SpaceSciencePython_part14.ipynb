{
 "cells": [
  {
   "cell_type": "markdown",
   "metadata": {},
   "source": [
    "[SOI = Sphere of Influence](https://en.wikipedia.org/wiki/Sphere_of_influence_(astrodynamics)), with radius \n",
    "$$\n",
    "    r_\\mathrm{SOI} \\coloneqq a (m/M_\\odot)^{2/5}\n",
    "$$"
   ]
  },
  {
   "cell_type": "code",
   "execution_count": 127,
   "metadata": {},
   "outputs": [
    {
     "name": "stdout",
     "output_type": "stream",
     "text": [
      "SOI Radius of Jupiter: 0.32268429545253885 au\n"
     ]
    }
   ],
   "source": [
    "from astropy.time import Time\n",
    "import spiceypy as sp\n",
    "\n",
    "KM2AU = sp.convrt(1, \"km\", \"au\")\n",
    "RAD2DEG = sp.dpr()\n",
    "SEC2YR = sp.convrt(1, \"seconds\", \"years\")\n",
    "\n",
    "\n",
    "def gfdist():\n",
    "    pass\n",
    "\n",
    "\n",
    "# Load the SPICE kernel meta file\n",
    "sp.furnsh('kernel_meta.txt')\n",
    "\n",
    "# Get the G*M value of the Sun and Jupiter\n",
    "GM_SUN = sp.bodvcd(bodyid=10, item='GM', maxn=1)[1][0]\n",
    "GM_JUP = sp.bodvcd(bodyid=5, item='GM', maxn=1)[1][0]\n",
    "\n",
    "# Set initial time\n",
    "T0_UTC = Time(\"2000-01-01T12:00:00\", format='isot', scale='utc')  # Random time\n",
    "T1_UTC = Time(\"2004-01-01\", format='isot', scale='utc')  # Start of ephemeris of 67P\n",
    "T2_UTC = Time(\"2015-12-31\", format='isot', scale='utc')  # End of ephemeris of 67P\n",
    "T0_ET = sp.utc2et(T0_UTC.utc.iso)\n",
    "T1_ET = sp.utc2et(T1_UTC.utc.iso)\n",
    "T2_ET = sp.utc2et(T2_UTC.utc.iso)\n",
    "\n",
    "# SOI of Jupiter\n",
    "vec_jup, _lt = sp.spkgeo(targ=5, et=T0_ET, ref='ECLIPJ2000', obs=10)\n",
    "elt_jup = sp.oscltx(vec_jup, T0_ET, GM_SUN)\n",
    "R_SOI_JUP = elt_jup[-2]*(GM_JUP/GM_SUN)**(2/5)\n",
    "print(\"SOI Radius of Jupiter:\", R_SOI_JUP*KM2AU, \"au\")\n",
    "\n",
    "# Init state of 67P\n",
    "vec_67p, _lt = sp.spkgeo(targ=1000012, et=T1_ET, ref='ECLIPJ2000', obs=10)\n",
    "elt_67p = sp.oscltx(vec_67p, T1_ET, GM_SUN)"
   ]
  },
  {
   "cell_type": "markdown",
   "metadata": {},
   "source": [
    "Since the kernel ``67P_CHURY_GERAS_2004_2016.BSP`` covers 2004-2016, one cannot calculate beyond that.\n",
    "\n",
    "* e.g., ``sp.spkgeo(targ=1000012, et=T2_ET+(365*86400), ref='ECLIPJ2000', obs=10)`` will raise an \"insufficient ephemeris\" error.\n",
    "\n",
    "For example, times when 67P is within ``D < 20*R_SOI_JUP``(≈6.44au) can easily be found:"
   ]
  },
  {
   "cell_type": "code",
   "execution_count": 142,
   "metadata": {},
   "outputs": [
    {
     "name": "stdout",
     "output_type": "stream",
     "text": [
      "Start time:  2004-01-01 00:00:00.000\n",
      "End time  :  2009-04-30 23:14:34.572\n",
      "Start time:  2015-06-13 13:42:53.165\n",
      "End time  :  2015-12-31 00:00:00.000\n"
     ]
    }
   ],
   "source": [
    "cnfine = sp.cell_double(200)\n",
    "sp.wninsd(T1_ET, T2_ET, cnfine)\n",
    "\n",
    "result = sp.gfdist(target=\"1000012\", abcorr=\"None\", obsrvr=\"5\", relate=\"<\", refval=20*R_SOI_JUP,\n",
    "                   adjust=0.0, step=3600., nintvls=100, cnfine=cnfine)\n",
    "# Print the result\n",
    "for i in range(0, sp.wncard(result)):\n",
    "    interval = sp.wnfetd(result, i)\n",
    "    print('Start time: ', sp.timout(interval[0], 'YYYY-MM-DD HR:MN:SC.###'))\n",
    "    print('End time  : ', sp.timout(interval[1], 'YYYY-MM-DD HR:MN:SC.###'))"
   ]
  },
  {
   "cell_type": "markdown",
   "metadata": {},
   "source": [
    "However, if you increase the time range outside 2004-2016 (e.g., ``sp.wninsd(T1_ET, T2_ET + 86400, cnfine)``), it will return an **insufficient ephemeris error**:\n",
    "\n",
    "Thus, for future events, one has to calculate the trajectory manually in python...\n",
    "\n",
    "In the original notebook, if TSOI == \"time when 67P touches the ``R_SOI_JUP``\", they did \n",
    "\n",
    "1. Assume the orbital element has been constant since 2000, find TSOI.\n",
    "2. After TSOI, conduct a 2-body calculation using ``mu=GM_Jup`` until it goes out of the SOI again.\n",
    "3. Convert the last state vector into an orbital element and compare it with the elements in 2000.\n",
    "\n",
    "However, this is a very crude approximation, which maybe educationally useful, but scientifically not very useful. If you need an accurate trajectory, full calculation is needed and python for/while loop is not the best option (if you have to do this for millions of asteroids)."
   ]
  },
  {
   "cell_type": "markdown",
   "metadata": {},
   "source": []
  }
 ],
 "metadata": {
  "kernelspec": {
   "display_name": "Python 3",
   "language": "python",
   "name": "python3"
  },
  "language_info": {
   "codemirror_mode": {
    "name": "ipython",
    "version": 3
   },
   "file_extension": ".py",
   "mimetype": "text/x-python",
   "name": "python",
   "nbconvert_exporter": "python",
   "pygments_lexer": "ipython3",
   "version": "3.11.6"
  }
 },
 "nbformat": 4,
 "nbformat_minor": 4
}
