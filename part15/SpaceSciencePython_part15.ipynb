{
 "cells": [
  {
   "cell_type": "markdown",
   "metadata": {},
   "source": [
    "# MOID\n",
    "\n",
    "[Minimum orbit intersection distance (MOID)](https://en.wikipedia.org/wiki/Minimum_orbit_intersection_distance)"
   ]
  },
  {
   "cell_type": "code",
   "execution_count": 35,
   "metadata": {},
   "outputs": [],
   "source": [
    "# Import standard modules\n",
    "import sqlite3\n",
    "from astropy.time import Time\n",
    "from astropy import units as u\n",
    "from scipy.spatial.distance import cdist\n",
    "\n",
    "import spiceypy as sp\n",
    "import numpy as np\n",
    "import pandas as pd\n",
    "\n",
    "import warnings\n",
    "warnings.filterwarnings('ignore', append=True)\n",
    "\n",
    "AU2KM = sp.convrt(1, \"au\", \"km\")\n",
    "KM2AU = sp.convrt(1, \"km\", \"au\")\n",
    "# RAD2DEG = sp.dpr()\n",
    "# SEC2YR = sp.convrt(1, \"seconds\", \"years\")\n",
    "\n",
    "# Load the SPICE kernel meta file\n",
    "sp.furnsh('kernel_meta.txt')\n",
    "\n",
    "# Extract the GM value of the Sun\n",
    "GM_SUN = sp.bodvcd(bodyid=10, item='GM', maxn=1)[1][0]\n",
    "\n",
    "# Set times\n",
    "T1_UTC = Time(\"2020-05-20\", format='iso', scale='utc')\n",
    "T2_UTC = Time(\"2020-06-10\", format='iso', scale='utc')\n",
    "times_utc = np.arange(T1_UTC, T2_UTC, 1*u.h)\n",
    "times_et = [sp.utc2et(t.strftime(\"%Y-%m-%dT%H:%M:%S\")) for t in times_utc]\n",
    "\n",
    "# Extract orbit data of the comet C/2019 Y4 (ATLAS)\n",
    "con = sqlite3.connect('../_databases/_comets/mpc_comets.db')\n",
    "elt_y4 = pd.read_sql(\"\"\"\n",
    "SELECT PERIHELION_AU, ECCENTRICITY, INCLINATION_DEG, LONG_OF_ASC_NODE_DEG, ARG_OF_PERIH_DEG,\n",
    "MEAN_ANOMALY_DEG, EPOCH_ET FROM comets_main WHERE NAME=\"C/2019 Y4 (ATLAS)\"\n",
    "\"\"\", con)\n",
    "elt_y4 = [\n",
    "    elt_y4['PERIHELION_AU'].values[0]*AU2KM,\n",
    "    elt_y4['ECCENTRICITY'].values[0],\n",
    "    np.deg2rad(elt_y4['INCLINATION_DEG'].values[0]),\n",
    "    np.deg2rad(elt_y4['LONG_OF_ASC_NODE_DEG'].values[0]),\n",
    "    np.deg2rad(elt_y4['ARG_OF_PERIH_DEG'].values[0]),\n",
    "    np.deg2rad(elt_y4['MEAN_ANOMALY_DEG'].values[0]),\n",
    "    elt_y4['EPOCH_ET'].values[0],\n",
    "    GM_SUN\n",
    "]"
   ]
  },
  {
   "cell_type": "code",
   "execution_count": 38,
   "metadata": {},
   "outputs": [
    {
     "name": "stdout",
     "output_type": "stream",
     "text": [
      "Minimum distance between the comet and Solar Orbiter: 0.253 au\n",
      "Minimum distance between Solar Orbiter and the comet: 0.521 au\n",
      "MOID between the comet and Solar Orbiter: 0.270 au\n"
     ]
    }
   ],
   "source": [
    "# Comet (not in the ephemeris)\n",
    "pos_y4 = np.array([sp.conics(elt_y4, _t)[:3] for _t in times_et])\n",
    "# Solar Orbiter (in the ephemeris)\n",
    "pos_so = np.array([sp.spkgeo(targ=-144, et=_t, ref='ECLIPJ2000', obs=10)[0][:3] for _t in times_et])\n",
    "\n",
    "min_dist_y4 = np.min(np.linalg.norm(pos_y4, axis=1))\n",
    "min_dist_so = np.min(np.linalg.norm(pos_so, axis=1))\n",
    "moid_y4_so = cdist(pos_y4, pos_so).min()\n",
    "print(f\"Minimum distance between the comet and Solar Orbiter: {min_dist_y4*KM2AU:.3f} au\")\n",
    "print(f\"Minimum distance between Solar Orbiter and the comet: {min_dist_so*KM2AU:.3f} au\")\n",
    "print(f\"MOID between the comet and Solar Orbiter: {moid_y4_so*KM2AU:.3f} au\")"
   ]
  }
 ],
 "metadata": {
  "kernelspec": {
   "display_name": "Python 3",
   "language": "python",
   "name": "python3"
  },
  "language_info": {
   "codemirror_mode": {
    "name": "ipython",
    "version": 3
   },
   "file_extension": ".py",
   "mimetype": "text/x-python",
   "name": "python",
   "nbconvert_exporter": "python",
   "pygments_lexer": "ipython3",
   "version": "3.11.6"
  }
 },
 "nbformat": 4,
 "nbformat_minor": 4
}
