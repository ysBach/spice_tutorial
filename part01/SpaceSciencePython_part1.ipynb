{
 "cells": [
  {
   "cell_type": "markdown",
   "metadata": {},
   "source": []
  },
  {
   "cell_type": "code",
   "execution_count": 1,
   "metadata": {},
   "outputs": [],
   "source": [
    "# Import the SPICE module\n",
    "import spiceypy"
   ]
  },
  {
   "cell_type": "code",
   "execution_count": 2,
   "metadata": {},
   "outputs": [
    {
     "ename": "SpiceyError",
     "evalue": "\n================================================================================\n\nToolkit version: N0066\n\nSPICE(NOLEAPSECONDS) --\n\nThe variable that points to the leapseconds (DELTET/DELTA_AT) could not be located in the kernel pool.  It is likely that the leapseconds kernel has not been loaded via the routine FURNSH.\n\nutc2et_c --> UTC2ET --> TTRANS\n\n================================================================================",
     "output_type": "error",
     "traceback": [
      "\u001b[0;31m---------------------------------------------------------------------------\u001b[0m",
      "\u001b[0;31mSpiceyError\u001b[0m                               Traceback (most recent call last)",
      "\u001b[0;32m<ipython-input-2-9f991b6ac241>\u001b[0m in \u001b[0;36m<module>\u001b[0;34m\u001b[0m\n\u001b[1;32m     12\u001b[0m \u001b[0;34m\u001b[0m\u001b[0m\n\u001b[1;32m     13\u001b[0m \u001b[0;31m# convert the utc midnight string to the corresponding ET\u001b[0m\u001b[0;34m\u001b[0m\u001b[0;34m\u001b[0m\u001b[0;34m\u001b[0m\u001b[0m\n\u001b[0;32m---> 14\u001b[0;31m \u001b[0mET_TODAY_MIDNIGHT\u001b[0m \u001b[0;34m=\u001b[0m \u001b[0mspiceypy\u001b[0m\u001b[0;34m.\u001b[0m\u001b[0mutc2et\u001b[0m\u001b[0;34m(\u001b[0m\u001b[0mDATE_TODAY\u001b[0m\u001b[0;34m)\u001b[0m\u001b[0;34m\u001b[0m\u001b[0;34m\u001b[0m\u001b[0m\n\u001b[0m",
      "\u001b[0;32m~/python3-8-2/lib/python3.8/site-packages/spiceypy/spiceypy.py\u001b[0m in \u001b[0;36mwith_errcheck\u001b[0;34m(*args, **kwargs)\u001b[0m\n\u001b[1;32m    100\u001b[0m         \u001b[0;32mtry\u001b[0m\u001b[0;34m:\u001b[0m\u001b[0;34m\u001b[0m\u001b[0;34m\u001b[0m\u001b[0m\n\u001b[1;32m    101\u001b[0m             \u001b[0mres\u001b[0m \u001b[0;34m=\u001b[0m \u001b[0mf\u001b[0m\u001b[0;34m(\u001b[0m\u001b[0;34m*\u001b[0m\u001b[0margs\u001b[0m\u001b[0;34m,\u001b[0m \u001b[0;34m**\u001b[0m\u001b[0mkwargs\u001b[0m\u001b[0;34m)\u001b[0m\u001b[0;34m\u001b[0m\u001b[0;34m\u001b[0m\u001b[0m\n\u001b[0;32m--> 102\u001b[0;31m             \u001b[0mcheck_for_spice_error\u001b[0m\u001b[0;34m(\u001b[0m\u001b[0mf\u001b[0m\u001b[0;34m)\u001b[0m\u001b[0;34m\u001b[0m\u001b[0;34m\u001b[0m\u001b[0m\n\u001b[0m\u001b[1;32m    103\u001b[0m             \u001b[0;32mreturn\u001b[0m \u001b[0mres\u001b[0m\u001b[0;34m\u001b[0m\u001b[0;34m\u001b[0m\u001b[0m\n\u001b[1;32m    104\u001b[0m         \u001b[0;32mexcept\u001b[0m \u001b[0mBaseException\u001b[0m\u001b[0;34m:\u001b[0m\u001b[0;34m\u001b[0m\u001b[0;34m\u001b[0m\u001b[0m\n",
      "\u001b[0;32m~/python3-8-2/lib/python3.8/site-packages/spiceypy/spiceypy.py\u001b[0m in \u001b[0;36mcheck_for_spice_error\u001b[0;34m(f)\u001b[0m\n\u001b[1;32m     85\u001b[0m         \u001b[0mmsg\u001b[0m \u001b[0;34m=\u001b[0m \u001b[0mstypes\u001b[0m\u001b[0;34m.\u001b[0m\u001b[0merrorformat\u001b[0m\u001b[0;34m.\u001b[0m\u001b[0mformat\u001b[0m\u001b[0;34m(\u001b[0m\u001b[0;34m**\u001b[0m\u001b[0merrorparts\u001b[0m\u001b[0;34m)\u001b[0m\u001b[0;34m\u001b[0m\u001b[0;34m\u001b[0m\u001b[0m\n\u001b[1;32m     86\u001b[0m         \u001b[0mreset\u001b[0m\u001b[0;34m(\u001b[0m\u001b[0;34m)\u001b[0m\u001b[0;34m\u001b[0m\u001b[0;34m\u001b[0m\u001b[0m\n\u001b[0;32m---> 87\u001b[0;31m         \u001b[0;32mraise\u001b[0m \u001b[0mstypes\u001b[0m\u001b[0;34m.\u001b[0m\u001b[0mSpiceyError\u001b[0m\u001b[0;34m(\u001b[0m\u001b[0mmsg\u001b[0m\u001b[0;34m)\u001b[0m\u001b[0;34m\u001b[0m\u001b[0;34m\u001b[0m\u001b[0m\n\u001b[0m\u001b[1;32m     88\u001b[0m \u001b[0;34m\u001b[0m\u001b[0m\n\u001b[1;32m     89\u001b[0m \u001b[0;34m\u001b[0m\u001b[0m\n",
      "\u001b[0;31mSpiceyError\u001b[0m: \n================================================================================\n\nToolkit version: N0066\n\nSPICE(NOLEAPSECONDS) --\n\nThe variable that points to the leapseconds (DELTET/DELTA_AT) could not be located in the kernel pool.  It is likely that the leapseconds kernel has not been loaded via the routine FURNSH.\n\nutc2et_c --> UTC2ET --> TTRANS\n\n================================================================================"
     ]
    }
   ],
   "source": [
    "# We want to determine the position of our home planet with respect to the Sun.\n",
    "# The datetime shall be set as \"today\" (midnight). SPICE requires the Ephemeris Time (ET);\n",
    "# thus, we need to convert a UTC datetime string to ET.\n",
    "\n",
    "import datetime\n",
    "\n",
    "# get today's date\n",
    "DATE_TODAY = datetime.datetime.today()\n",
    "\n",
    "# convert the datetime to a string, replacing the time with midnight\n",
    "DATE_TODAY = DATE_TODAY.strftime('%Y-%m-%dT00:00:00')\n",
    "\n",
    "# convert the utc midnight string to the corresponding ET\n",
    "ET_TODAY_MIDNIGHT = spiceypy.utc2et(DATE_TODAY)"
   ]
  },
  {
   "cell_type": "code",
   "execution_count": 3,
   "metadata": {},
   "outputs": [],
   "source": [
    "# oh... an error occurred. The error tells us that a so called \"kernel\" is missing. These kernels store all\n",
    "# information that are required for time conversion, pointing, position determination etc.\n",
    "# For this tutorial the Git repository contains already the necessary kernel. We need to load it first\n",
    "spiceypy.furnsh('../_kernels/lsk/naif0012.tls')"
   ]
  },
  {
   "cell_type": "code",
   "execution_count": 4,
   "metadata": {},
   "outputs": [],
   "source": [
    "# Let's re-try our first time conversion command\n",
    "ET_TODAY_MIDNIGHT = spiceypy.utc2et(DATE_TODAY)"
   ]
  },
  {
   "cell_type": "code",
   "execution_count": 5,
   "metadata": {},
   "outputs": [
    {
     "name": "stdout",
     "output_type": "stream",
     "text": [
      "640699269.1855832\n"
     ]
    }
   ],
   "source": [
    "# It works! How does the value look like?\n",
    "print(ET_TODAY_MIDNIGHT)"
   ]
  },
  {
   "cell_type": "code",
   "execution_count": 6,
   "metadata": {},
   "outputs": [
    {
     "ename": "SpiceyError",
     "evalue": "\n================================================================================\n\nToolkit version: N0066\n\nSPICE(NOLOADEDFILES) --\n\nAt least one SPK file needs to be loaded by SPKLEF before beginning a search.\n\nspkgeo_c --> SPKGEO --> SPKSFS\n\n================================================================================",
     "output_type": "error",
     "traceback": [
      "\u001b[0;31m---------------------------------------------------------------------------\u001b[0m",
      "\u001b[0;31mSpiceyError\u001b[0m                               Traceback (most recent call last)",
      "\u001b[0;32m<ipython-input-6-e4609934e7f0>\u001b[0m in \u001b[0;36m<module>\u001b[0;34m\u001b[0m\n\u001b[1;32m      8\u001b[0m \u001b[0;31m# ref : The reference frame. Here, it is ECLIPJ2000 (so Medium article)\u001b[0m\u001b[0;34m\u001b[0m\u001b[0;34m\u001b[0m\u001b[0;34m\u001b[0m\u001b[0m\n\u001b[1;32m      9\u001b[0m \u001b[0;31m# obs :  The observer respectively the center of our state vector computation\u001b[0m\u001b[0;34m\u001b[0m\u001b[0;34m\u001b[0m\u001b[0;34m\u001b[0m\u001b[0m\n\u001b[0;32m---> 10\u001b[0;31m EARTH_STATE_WRT_SUN, EARTH_SUN_LIGHT_TIME = spiceypy.spkgeo(targ=399, et=ET_TODAY_MIDNIGHT, \\\n\u001b[0m\u001b[1;32m     11\u001b[0m                                                             ref='ECLIPJ2000', obs=10)\n",
      "\u001b[0;32m~/python3-8-2/lib/python3.8/site-packages/spiceypy/spiceypy.py\u001b[0m in \u001b[0;36mwith_errcheck\u001b[0;34m(*args, **kwargs)\u001b[0m\n\u001b[1;32m    100\u001b[0m         \u001b[0;32mtry\u001b[0m\u001b[0;34m:\u001b[0m\u001b[0;34m\u001b[0m\u001b[0;34m\u001b[0m\u001b[0m\n\u001b[1;32m    101\u001b[0m             \u001b[0mres\u001b[0m \u001b[0;34m=\u001b[0m \u001b[0mf\u001b[0m\u001b[0;34m(\u001b[0m\u001b[0;34m*\u001b[0m\u001b[0margs\u001b[0m\u001b[0;34m,\u001b[0m \u001b[0;34m**\u001b[0m\u001b[0mkwargs\u001b[0m\u001b[0;34m)\u001b[0m\u001b[0;34m\u001b[0m\u001b[0;34m\u001b[0m\u001b[0m\n\u001b[0;32m--> 102\u001b[0;31m             \u001b[0mcheck_for_spice_error\u001b[0m\u001b[0;34m(\u001b[0m\u001b[0mf\u001b[0m\u001b[0;34m)\u001b[0m\u001b[0;34m\u001b[0m\u001b[0;34m\u001b[0m\u001b[0m\n\u001b[0m\u001b[1;32m    103\u001b[0m             \u001b[0;32mreturn\u001b[0m \u001b[0mres\u001b[0m\u001b[0;34m\u001b[0m\u001b[0;34m\u001b[0m\u001b[0m\n\u001b[1;32m    104\u001b[0m         \u001b[0;32mexcept\u001b[0m \u001b[0mBaseException\u001b[0m\u001b[0;34m:\u001b[0m\u001b[0;34m\u001b[0m\u001b[0;34m\u001b[0m\u001b[0m\n",
      "\u001b[0;32m~/python3-8-2/lib/python3.8/site-packages/spiceypy/spiceypy.py\u001b[0m in \u001b[0;36mcheck_for_spice_error\u001b[0;34m(f)\u001b[0m\n\u001b[1;32m     85\u001b[0m         \u001b[0mmsg\u001b[0m \u001b[0;34m=\u001b[0m \u001b[0mstypes\u001b[0m\u001b[0;34m.\u001b[0m\u001b[0merrorformat\u001b[0m\u001b[0;34m.\u001b[0m\u001b[0mformat\u001b[0m\u001b[0;34m(\u001b[0m\u001b[0;34m**\u001b[0m\u001b[0merrorparts\u001b[0m\u001b[0;34m)\u001b[0m\u001b[0;34m\u001b[0m\u001b[0;34m\u001b[0m\u001b[0m\n\u001b[1;32m     86\u001b[0m         \u001b[0mreset\u001b[0m\u001b[0;34m(\u001b[0m\u001b[0;34m)\u001b[0m\u001b[0;34m\u001b[0m\u001b[0;34m\u001b[0m\u001b[0m\n\u001b[0;32m---> 87\u001b[0;31m         \u001b[0;32mraise\u001b[0m \u001b[0mstypes\u001b[0m\u001b[0;34m.\u001b[0m\u001b[0mSpiceyError\u001b[0m\u001b[0;34m(\u001b[0m\u001b[0mmsg\u001b[0m\u001b[0;34m)\u001b[0m\u001b[0;34m\u001b[0m\u001b[0;34m\u001b[0m\u001b[0m\n\u001b[0m\u001b[1;32m     88\u001b[0m \u001b[0;34m\u001b[0m\u001b[0m\n\u001b[1;32m     89\u001b[0m \u001b[0;34m\u001b[0m\u001b[0m\n",
      "\u001b[0;31mSpiceyError\u001b[0m: \n================================================================================\n\nToolkit version: N0066\n\nSPICE(NOLOADEDFILES) --\n\nAt least one SPK file needs to be loaded by SPKLEF before beginning a search.\n\nspkgeo_c --> SPKGEO --> SPKSFS\n\n================================================================================"
     ]
    }
   ],
   "source": [
    "# Can we compute now the position and velocity (so called state) of the Earth with respect to the Sun?\n",
    "# We use the following function to determine the state vector and the so called light time (travel time of the\n",
    "# light between the Sun and our home planet). Positions are always given in km, velocities in km/s and times in\n",
    "# seconds\n",
    "\n",
    "# targ : Object that shall be pointed at\n",
    "# et : The ET of the computation\n",
    "# ref : The reference frame. Here, it is ECLIPJ2000 (so Medium article)\n",
    "# obs :  The observer respectively the center of our state vector computation\n",
    "EARTH_STATE_WRT_SUN, EARTH_SUN_LIGHT_TIME = spiceypy.spkgeo(targ=399, et=ET_TODAY_MIDNIGHT, \\\n",
    "                                                            ref='ECLIPJ2000', obs=10)"
   ]
  },
  {
   "cell_type": "code",
   "execution_count": 7,
   "metadata": {},
   "outputs": [],
   "source": [
    "# An error occured. Again a kernel error. Well, we need to load a so called spk to load positional information:\n",
    "spiceypy.furnsh('../_kernels/spk/de432s.bsp')"
   ]
  },
  {
   "cell_type": "code",
   "execution_count": 8,
   "metadata": {},
   "outputs": [],
   "source": [
    "# Let's re-try the computation again\n",
    "EARTH_STATE_WRT_SUN, EARTH_SUN_LIGHT_TIME = spiceypy.spkgeo(targ=399, et=ET_TODAY_MIDNIGHT, \\\n",
    "                                                            ref='ECLIPJ2000', obs=10)"
   ]
  },
  {
   "cell_type": "code",
   "execution_count": 9,
   "metadata": {},
   "outputs": [
    {
     "name": "stdout",
     "output_type": "stream",
     "text": [
      "State vector of the Earth w.r.t. the Sun for \"today\" (midnight):\n",
      " [-1.28760839e+08 -7.76110220e+07  4.32943029e+03  1.48939328e+01\n",
      " -2.56361729e+01  1.00712291e-03]\n"
     ]
    }
   ],
   "source": [
    "# The state vector is 6 dimensional: x,y,z in km and the corresponding velocities in km/s\n",
    "print('State vector of the Earth w.r.t. the Sun for \"today\" (midnight):\\n', EARTH_STATE_WRT_SUN)"
   ]
  },
  {
   "cell_type": "code",
   "execution_count": 10,
   "metadata": {},
   "outputs": [],
   "source": [
    "# The (Euclidean) distance should be around 1 AU. Why \"around\"? Well the Earth revolves the Sun in a slightly\n",
    "# non-perfect circle (elliptic orbit). First, we compute the distance in km.\n",
    "import math\n",
    "EARTH_SUN_DISTANCE = math.sqrt(EARTH_STATE_WRT_SUN[0]**2.0 \\\n",
    "                             + EARTH_STATE_WRT_SUN[1]**2.0 \\\n",
    "                             + EARTH_STATE_WRT_SUN[2]**2.0)"
   ]
  },
  {
   "cell_type": "code",
   "execution_count": 11,
   "metadata": {},
   "outputs": [
    {
     "name": "stdout",
     "output_type": "stream",
     "text": [
      "Current distance between the Earth and the Sun in AU: 1.004976583585043\n"
     ]
    }
   ],
   "source": [
    "# Convert the distance in astronomical units (1 AU)\n",
    "# Instead of searching for the \"most recent\" value, we use the default value in SPICE. This way, we can easily\n",
    "# compare our results with the results of others.\n",
    "EARTH_SUN_DISTANCE_AU = spiceypy.convrt(EARTH_SUN_DISTANCE, 'km', 'AU')\n",
    "\n",
    "# Cool, it works!\n",
    "print('Current distance between the Earth and the Sun in AU:', EARTH_SUN_DISTANCE_AU)"
   ]
  },
  {
   "cell_type": "markdown",
   "metadata": {},
   "source": [
    "# Orbital speed of the Earth\n",
    "For this, we need the equation to determine the orbital speed. We assume that the Sun's mass is greater than the mass\n",
    "of the Earth and we assume that our planet is moving on an almost circular orbit. The orbit velocity $v_{\\text{orb}}$ can be approximated with, where $G$ is the gravitational constant, $M$ is the mass of the Sun and $r$ is the distance between the Earth and the Sun:\n",
    "\\begin{align}\n",
    "    v_{\\text{orb}}\\approx\\sqrt{\\frac{GM}{r}}\n",
    "\\end{align}"
   ]
  },
  {
   "cell_type": "code",
   "execution_count": 12,
   "metadata": {},
   "outputs": [
    {
     "name": "stdout",
     "output_type": "stream",
     "text": [
      "Current orbital speed of the Earth around the Sun in km/s: 29.648652501451902\n"
     ]
    }
   ],
   "source": [
    "# First, we compute the actual orbital speed of the Earth around the Sun\n",
    "EARTH_ORB_SPEED_WRT_SUN = math.sqrt(EARTH_STATE_WRT_SUN[3]**2.0 \\\n",
    "                                  + EARTH_STATE_WRT_SUN[4]**2.0 \\\n",
    "                                  + EARTH_STATE_WRT_SUN[5]**2.0)\n",
    "\n",
    "# It's around 30 km/s\n",
    "print('Current orbital speed of the Earth around the Sun in km/s:', EARTH_ORB_SPEED_WRT_SUN)"
   ]
  },
  {
   "cell_type": "code",
   "execution_count": 13,
   "metadata": {},
   "outputs": [
    {
     "name": "stdout",
     "output_type": "stream",
     "text": [
      "Theoretical orbital speed of the Earth around the Sun in km/s: 29.710854318668748\n"
     ]
    }
   ],
   "source": [
    "# Now let's compute the theoretical expectation. First, we load a pck file that contain miscellanoeus information,\n",
    "# like the G*M values for different objects\n",
    "\n",
    "# First, load the kernel\n",
    "spiceypy.furnsh('../_kernels/pck/gm_de431.tpc')\n",
    "_, GM_SUN = spiceypy.bodvcd(bodyid=10, item='GM', maxn=1)\n",
    "\n",
    "# Now compute the orbital speed\n",
    "V_ORB_FUNC = lambda gm, r: math.sqrt(gm/r)\n",
    "EARTH_ORB_SPEED_WRT_SUN_THEORY = V_ORB_FUNC(GM_SUN[0], EARTH_SUN_DISTANCE)\n",
    "\n",
    "# Print the result\n",
    "print('Theoretical orbital speed of the Earth around the Sun in km/s:', EARTH_ORB_SPEED_WRT_SUN_THEORY)"
   ]
  },
  {
   "cell_type": "code",
   "execution_count": null,
   "metadata": {},
   "outputs": [],
   "source": []
  }
 ],
 "metadata": {
  "kernelspec": {
   "display_name": "Python 3",
   "language": "python",
   "name": "python3"
  },
  "language_info": {
   "codemirror_mode": {
    "name": "ipython",
    "version": 3
   },
   "file_extension": ".py",
   "mimetype": "text/x-python",
   "name": "python",
   "nbconvert_exporter": "python",
   "pygments_lexer": "ipython3",
   "version": "3.8.2"
  }
 },
 "nbformat": 4,
 "nbformat_minor": 4
}
