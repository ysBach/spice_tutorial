{
 "cells": [
  {
   "cell_type": "markdown",
   "metadata": {},
   "source": []
  },
  {
   "cell_type": "code",
   "execution_count": 1,
   "metadata": {},
   "outputs": [],
   "source": [
    "# Import the SPICE module\n",
    "import spiceypy"
   ]
  },
  {
   "cell_type": "code",
   "execution_count": 2,
   "metadata": {},
   "outputs": [
    {
     "ename": "SpiceNOLEAPSECONDS",
     "evalue": "\n================================================================================\n\nToolkit version: CSPICE_N0067\n\nSPICE(NOLEAPSECONDS) --\n\nThe variable that points to the leapseconds (DELTET/DELTA_AT) could not be located in the kernel pool.  It is likely that the leapseconds kernel has not been loaded.\n\nutc2et_c --> UTC2ET --> TTRANS\n\n================================================================================",
     "output_type": "error",
     "traceback": [
      "\u001b[0;31m---------------------------------------------------------------------------\u001b[0m",
      "\u001b[0;31mSpiceNOLEAPSECONDS\u001b[0m                        Traceback (most recent call last)",
      "\u001b[0;32m/var/folders/b1/mdnx6bfn6_v7p70xc3hpc9vh0000gn/T/ipykernel_82871/1207307244.py\u001b[0m in \u001b[0;36m?\u001b[0;34m()\u001b[0m\n\u001b[1;32m      7\u001b[0m \u001b[0;31m# get today's date\u001b[0m\u001b[0;34m\u001b[0m\u001b[0;34m\u001b[0m\u001b[0m\n\u001b[1;32m      8\u001b[0m \u001b[0mDATE_TODAY\u001b[0m \u001b[0;34m=\u001b[0m \u001b[0mdatetime\u001b[0m\u001b[0;34m.\u001b[0m\u001b[0mdatetime\u001b[0m\u001b[0;34m.\u001b[0m\u001b[0mtoday\u001b[0m\u001b[0;34m(\u001b[0m\u001b[0;34m)\u001b[0m\u001b[0;34m.\u001b[0m\u001b[0mstrftime\u001b[0m\u001b[0;34m(\u001b[0m\u001b[0;34m'%Y-%m-%dT00:00:00'\u001b[0m\u001b[0;34m)\u001b[0m\u001b[0;34m\u001b[0m\u001b[0;34m\u001b[0m\u001b[0m\n\u001b[1;32m      9\u001b[0m \u001b[0;34m\u001b[0m\u001b[0m\n\u001b[1;32m     10\u001b[0m \u001b[0;31m# convert the utc midnight string to the corresponding ET\u001b[0m\u001b[0;34m\u001b[0m\u001b[0;34m\u001b[0m\u001b[0m\n\u001b[0;32m---> 11\u001b[0;31m \u001b[0mET_TODAY_MIDNIGHT\u001b[0m \u001b[0;34m=\u001b[0m \u001b[0mspiceypy\u001b[0m\u001b[0;34m.\u001b[0m\u001b[0mutc2et\u001b[0m\u001b[0;34m(\u001b[0m\u001b[0mDATE_TODAY\u001b[0m\u001b[0;34m)\u001b[0m\u001b[0;34m\u001b[0m\u001b[0;34m\u001b[0m\u001b[0m\n\u001b[0m",
      "\u001b[0;32m~/mambaforge/envs/spherex/lib/python3.11/site-packages/spiceypy/spiceypy.py\u001b[0m in \u001b[0;36m?\u001b[0;34m(*args, **kwargs)\u001b[0m\n\u001b[1;32m    138\u001b[0m             \u001b[0mres\u001b[0m \u001b[0;34m=\u001b[0m \u001b[0mf\u001b[0m\u001b[0;34m(\u001b[0m\u001b[0;34m*\u001b[0m\u001b[0margs\u001b[0m\u001b[0;34m,\u001b[0m \u001b[0;34m**\u001b[0m\u001b[0mkwargs\u001b[0m\u001b[0;34m)\u001b[0m\u001b[0;34m\u001b[0m\u001b[0;34m\u001b[0m\u001b[0m\n\u001b[1;32m    139\u001b[0m             \u001b[0mcheck_for_spice_error\u001b[0m\u001b[0;34m(\u001b[0m\u001b[0mf\u001b[0m\u001b[0;34m)\u001b[0m\u001b[0;34m\u001b[0m\u001b[0;34m\u001b[0m\u001b[0m\n\u001b[1;32m    140\u001b[0m             \u001b[0;32mreturn\u001b[0m \u001b[0mres\u001b[0m\u001b[0;34m\u001b[0m\u001b[0;34m\u001b[0m\u001b[0m\n\u001b[1;32m    141\u001b[0m         \u001b[0;32mexcept\u001b[0m \u001b[0mBaseException\u001b[0m\u001b[0;34m:\u001b[0m\u001b[0;34m\u001b[0m\u001b[0;34m\u001b[0m\u001b[0m\n\u001b[0;32m--> 142\u001b[0;31m             \u001b[0;32mraise\u001b[0m\u001b[0;34m\u001b[0m\u001b[0;34m\u001b[0m\u001b[0m\n\u001b[0m",
      "\u001b[0;32m~/mambaforge/envs/spherex/lib/python3.11/site-packages/spiceypy/spiceypy.py\u001b[0m in \u001b[0;36m?\u001b[0;34m(f)\u001b[0m\n\u001b[1;32m    118\u001b[0m         \u001b[0mexplain\u001b[0m \u001b[0;34m=\u001b[0m \u001b[0mgetmsg\u001b[0m\u001b[0;34m(\u001b[0m\u001b[0;34m\"EXPLAIN\"\u001b[0m\u001b[0;34m,\u001b[0m \u001b[0;36m100\u001b[0m\u001b[0;34m)\u001b[0m\u001b[0;34m.\u001b[0m\u001b[0mstrip\u001b[0m\u001b[0;34m(\u001b[0m\u001b[0;34m)\u001b[0m\u001b[0;34m\u001b[0m\u001b[0;34m\u001b[0m\u001b[0m\n\u001b[1;32m    119\u001b[0m         \u001b[0mlong\u001b[0m \u001b[0;34m=\u001b[0m \u001b[0mgetmsg\u001b[0m\u001b[0;34m(\u001b[0m\u001b[0;34m\"LONG\"\u001b[0m\u001b[0;34m,\u001b[0m \u001b[0;36m1841\u001b[0m\u001b[0;34m)\u001b[0m\u001b[0;34m.\u001b[0m\u001b[0mstrip\u001b[0m\u001b[0;34m(\u001b[0m\u001b[0;34m)\u001b[0m\u001b[0;34m\u001b[0m\u001b[0;34m\u001b[0m\u001b[0m\n\u001b[1;32m    120\u001b[0m         \u001b[0mtraceback\u001b[0m \u001b[0;34m=\u001b[0m \u001b[0mqcktrc\u001b[0m\u001b[0;34m(\u001b[0m\u001b[0;36m200\u001b[0m\u001b[0;34m)\u001b[0m\u001b[0;34m\u001b[0m\u001b[0;34m\u001b[0m\u001b[0m\n\u001b[1;32m    121\u001b[0m         \u001b[0mreset\u001b[0m\u001b[0;34m(\u001b[0m\u001b[0;34m)\u001b[0m\u001b[0;34m\u001b[0m\u001b[0;34m\u001b[0m\u001b[0m\n\u001b[0;32m--> 122\u001b[0;31m         raise dynamically_instantiate_spiceyerror(\n\u001b[0m\u001b[1;32m    123\u001b[0m             \u001b[0mshort\u001b[0m\u001b[0;34m=\u001b[0m\u001b[0mshort\u001b[0m\u001b[0;34m,\u001b[0m \u001b[0mexplain\u001b[0m\u001b[0;34m=\u001b[0m\u001b[0mexplain\u001b[0m\u001b[0;34m,\u001b[0m \u001b[0mlong\u001b[0m\u001b[0;34m=\u001b[0m\u001b[0mlong\u001b[0m\u001b[0;34m,\u001b[0m \u001b[0mtraceback\u001b[0m\u001b[0;34m=\u001b[0m\u001b[0mtraceback\u001b[0m\u001b[0;34m\u001b[0m\u001b[0;34m\u001b[0m\u001b[0m\n\u001b[1;32m    124\u001b[0m         )\n",
      "\u001b[0;31mSpiceNOLEAPSECONDS\u001b[0m: \n================================================================================\n\nToolkit version: CSPICE_N0067\n\nSPICE(NOLEAPSECONDS) --\n\nThe variable that points to the leapseconds (DELTET/DELTA_AT) could not be located in the kernel pool.  It is likely that the leapseconds kernel has not been loaded.\n\nutc2et_c --> UTC2ET --> TTRANS\n\n================================================================================"
     ]
    }
   ],
   "source": [
    "# We want to determine the position of our home planet with respect to the Sun.\n",
    "# The datetime shall be set as \"today\" (midnight). SPICE requires the Ephemeris Time (ET);\n",
    "# thus, we need to convert a UTC datetime string to ET.\n",
    "\n",
    "import datetime\n",
    "\n",
    "# get today's date\n",
    "DATE_TODAY = datetime.datetime.today().strftime('%Y-%m-%dT00:00:00')\n",
    "\n",
    "# convert the utc midnight string to the corresponding ET\n",
    "ET_TODAY_MIDNIGHT = spiceypy.utc2et(DATE_TODAY)"
   ]
  },
  {
   "cell_type": "code",
   "execution_count": 3,
   "metadata": {},
   "outputs": [],
   "source": [
    "# oh... an error occurred. The error tells us that a so called \"kernel\" is missing. These kernels store all\n",
    "# information that are required for time conversion, pointing, position determination etc.\n",
    "# For this tutorial the Git repository contains already the necessary kernel. We need to load it first\n",
    "spiceypy.furnsh('../_kernels/lsk/naif0012.tls')"
   ]
  },
  {
   "cell_type": "code",
   "execution_count": 4,
   "metadata": {},
   "outputs": [
    {
     "name": "stdout",
     "output_type": "stream",
     "text": [
      "753710469.182823\n"
     ]
    }
   ],
   "source": [
    "# Let's re-try our first time conversion command\n",
    "ET_TODAY_MIDNIGHT = spiceypy.utc2et(DATE_TODAY)\n",
    "print(ET_TODAY_MIDNIGHT)"
   ]
  },
  {
   "cell_type": "code",
   "execution_count": 5,
   "metadata": {},
   "outputs": [
    {
     "ename": "SpiceNOLOADEDFILES",
     "evalue": "\n================================================================================\n\nToolkit version: CSPICE_N0067\n\nSPICE(NOLOADEDFILES) --\n\nAt least one SPK file needs to be loaded by SPKLEF before beginning a search.\n\nspkgeo_c --> SPKGEO --> SPKSFS\n\n================================================================================",
     "output_type": "error",
     "traceback": [
      "\u001b[0;31m---------------------------------------------------------------------------\u001b[0m",
      "\u001b[0;31mSpiceNOLOADEDFILES\u001b[0m                        Traceback (most recent call last)",
      "\u001b[0;32m/var/folders/b1/mdnx6bfn6_v7p70xc3hpc9vh0000gn/T/ipykernel_82871/896915351.py\u001b[0m in \u001b[0;36m?\u001b[0;34m()\u001b[0m\n\u001b[1;32m      6\u001b[0m \u001b[0;31m# targ : Object that shall be pointed at\u001b[0m\u001b[0;34m\u001b[0m\u001b[0;34m\u001b[0m\u001b[0m\n\u001b[1;32m      7\u001b[0m \u001b[0;31m# et : The ET of the computation\u001b[0m\u001b[0;34m\u001b[0m\u001b[0;34m\u001b[0m\u001b[0m\n\u001b[1;32m      8\u001b[0m \u001b[0;31m# ref : The reference frame. Here, it is ECLIPJ2000 (so Medium article)\u001b[0m\u001b[0;34m\u001b[0m\u001b[0;34m\u001b[0m\u001b[0m\n\u001b[1;32m      9\u001b[0m \u001b[0;31m# obs :  The observer respectively the center of our state vector computation\u001b[0m\u001b[0;34m\u001b[0m\u001b[0;34m\u001b[0m\u001b[0m\n\u001b[0;32m---> 10\u001b[0;31m \u001b[0msun_earth\u001b[0m\u001b[0;34m,\u001b[0m \u001b[0msun_earth_lt\u001b[0m \u001b[0;34m=\u001b[0m \u001b[0mspiceypy\u001b[0m\u001b[0;34m.\u001b[0m\u001b[0mspkgeo\u001b[0m\u001b[0;34m(\u001b[0m\u001b[0mtarg\u001b[0m\u001b[0;34m=\u001b[0m\u001b[0;36m399\u001b[0m\u001b[0;34m,\u001b[0m \u001b[0met\u001b[0m\u001b[0;34m=\u001b[0m\u001b[0mET_TODAY_MIDNIGHT\u001b[0m\u001b[0;34m,\u001b[0m \u001b[0mref\u001b[0m\u001b[0;34m=\u001b[0m\u001b[0;34m'ECLIPJ2000'\u001b[0m\u001b[0;34m,\u001b[0m \u001b[0mobs\u001b[0m\u001b[0;34m=\u001b[0m\u001b[0;36m10\u001b[0m\u001b[0;34m)\u001b[0m\u001b[0;34m\u001b[0m\u001b[0;34m\u001b[0m\u001b[0m\n\u001b[0m",
      "\u001b[0;32m~/mambaforge/envs/spherex/lib/python3.11/site-packages/spiceypy/spiceypy.py\u001b[0m in \u001b[0;36m?\u001b[0;34m(*args, **kwargs)\u001b[0m\n\u001b[1;32m    138\u001b[0m             \u001b[0mres\u001b[0m \u001b[0;34m=\u001b[0m \u001b[0mf\u001b[0m\u001b[0;34m(\u001b[0m\u001b[0;34m*\u001b[0m\u001b[0margs\u001b[0m\u001b[0;34m,\u001b[0m \u001b[0;34m**\u001b[0m\u001b[0mkwargs\u001b[0m\u001b[0;34m)\u001b[0m\u001b[0;34m\u001b[0m\u001b[0;34m\u001b[0m\u001b[0m\n\u001b[1;32m    139\u001b[0m             \u001b[0mcheck_for_spice_error\u001b[0m\u001b[0;34m(\u001b[0m\u001b[0mf\u001b[0m\u001b[0;34m)\u001b[0m\u001b[0;34m\u001b[0m\u001b[0;34m\u001b[0m\u001b[0m\n\u001b[1;32m    140\u001b[0m             \u001b[0;32mreturn\u001b[0m \u001b[0mres\u001b[0m\u001b[0;34m\u001b[0m\u001b[0;34m\u001b[0m\u001b[0m\n\u001b[1;32m    141\u001b[0m         \u001b[0;32mexcept\u001b[0m \u001b[0mBaseException\u001b[0m\u001b[0;34m:\u001b[0m\u001b[0;34m\u001b[0m\u001b[0;34m\u001b[0m\u001b[0m\n\u001b[0;32m--> 142\u001b[0;31m             \u001b[0;32mraise\u001b[0m\u001b[0;34m\u001b[0m\u001b[0;34m\u001b[0m\u001b[0m\n\u001b[0m",
      "\u001b[0;32m~/mambaforge/envs/spherex/lib/python3.11/site-packages/spiceypy/spiceypy.py\u001b[0m in \u001b[0;36m?\u001b[0;34m(f)\u001b[0m\n\u001b[1;32m    118\u001b[0m         \u001b[0mexplain\u001b[0m \u001b[0;34m=\u001b[0m \u001b[0mgetmsg\u001b[0m\u001b[0;34m(\u001b[0m\u001b[0;34m\"EXPLAIN\"\u001b[0m\u001b[0;34m,\u001b[0m \u001b[0;36m100\u001b[0m\u001b[0;34m)\u001b[0m\u001b[0;34m.\u001b[0m\u001b[0mstrip\u001b[0m\u001b[0;34m(\u001b[0m\u001b[0;34m)\u001b[0m\u001b[0;34m\u001b[0m\u001b[0;34m\u001b[0m\u001b[0m\n\u001b[1;32m    119\u001b[0m         \u001b[0mlong\u001b[0m \u001b[0;34m=\u001b[0m \u001b[0mgetmsg\u001b[0m\u001b[0;34m(\u001b[0m\u001b[0;34m\"LONG\"\u001b[0m\u001b[0;34m,\u001b[0m \u001b[0;36m1841\u001b[0m\u001b[0;34m)\u001b[0m\u001b[0;34m.\u001b[0m\u001b[0mstrip\u001b[0m\u001b[0;34m(\u001b[0m\u001b[0;34m)\u001b[0m\u001b[0;34m\u001b[0m\u001b[0;34m\u001b[0m\u001b[0m\n\u001b[1;32m    120\u001b[0m         \u001b[0mtraceback\u001b[0m \u001b[0;34m=\u001b[0m \u001b[0mqcktrc\u001b[0m\u001b[0;34m(\u001b[0m\u001b[0;36m200\u001b[0m\u001b[0;34m)\u001b[0m\u001b[0;34m\u001b[0m\u001b[0;34m\u001b[0m\u001b[0m\n\u001b[1;32m    121\u001b[0m         \u001b[0mreset\u001b[0m\u001b[0;34m(\u001b[0m\u001b[0;34m)\u001b[0m\u001b[0;34m\u001b[0m\u001b[0;34m\u001b[0m\u001b[0m\n\u001b[0;32m--> 122\u001b[0;31m         raise dynamically_instantiate_spiceyerror(\n\u001b[0m\u001b[1;32m    123\u001b[0m             \u001b[0mshort\u001b[0m\u001b[0;34m=\u001b[0m\u001b[0mshort\u001b[0m\u001b[0;34m,\u001b[0m \u001b[0mexplain\u001b[0m\u001b[0;34m=\u001b[0m\u001b[0mexplain\u001b[0m\u001b[0;34m,\u001b[0m \u001b[0mlong\u001b[0m\u001b[0;34m=\u001b[0m\u001b[0mlong\u001b[0m\u001b[0;34m,\u001b[0m \u001b[0mtraceback\u001b[0m\u001b[0;34m=\u001b[0m\u001b[0mtraceback\u001b[0m\u001b[0;34m\u001b[0m\u001b[0;34m\u001b[0m\u001b[0m\n\u001b[1;32m    124\u001b[0m         )\n",
      "\u001b[0;31mSpiceNOLOADEDFILES\u001b[0m: \n================================================================================\n\nToolkit version: CSPICE_N0067\n\nSPICE(NOLOADEDFILES) --\n\nAt least one SPK file needs to be loaded by SPKLEF before beginning a search.\n\nspkgeo_c --> SPKGEO --> SPKSFS\n\n================================================================================"
     ]
    }
   ],
   "source": [
    "# Can we compute now the position and velocity (so called state) of the Earth with respect to the Sun?\n",
    "# We use the following function to determine the state vector and the so called light time (travel time of the\n",
    "# light between the Sun and our home planet). Positions are always given in km, velocities in km/s and times in\n",
    "# seconds\n",
    "\n",
    "# targ : Object that shall be pointed at\n",
    "# et : The ET of the computation\n",
    "# ref : The reference frame. Here, it is ECLIPJ2000 (so Medium article)\n",
    "# obs :  The observer respectively the center of our state vector computation\n",
    "sun_earth, sun_earth_lt = spiceypy.spkgeo(targ=399, et=ET_TODAY_MIDNIGHT, ref='ECLIPJ2000', obs=10)"
   ]
  },
  {
   "cell_type": "code",
   "execution_count": 6,
   "metadata": {},
   "outputs": [],
   "source": [
    "# An error occured. Again a kernel error. Well, we need to load a so called spk to load positional information:\n",
    "spiceypy.furnsh('../_kernels/spk/de432s.bsp')"
   ]
  },
  {
   "cell_type": "code",
   "execution_count": 7,
   "metadata": {},
   "outputs": [],
   "source": [
    "sun_earth, sun_earth_lt = spiceypy.spkgeo(targ=399, et=ET_TODAY_MIDNIGHT, ref='ECLIPJ2000', obs=10)"
   ]
  },
  {
   "cell_type": "code",
   "execution_count": 8,
   "metadata": {},
   "outputs": [
    {
     "name": "stdout",
     "output_type": "stream",
     "text": [
      "State vector of the Earth w.r.t. the Sun for \"today\" (midnight):\n",
      " [ 8.03805363e+07  1.24080074e+08 -7.03550232e+03 -2.54936320e+01\n",
      "  1.60749310e+01 -1.26653757e-03]\n"
     ]
    }
   ],
   "source": [
    "# The state vector is 6 dimensional: x,y,z in km and the corresponding velocities in km/s\n",
    "print('State vector of the Earth w.r.t. the Sun for \"today\" (midnight):\\n', sun_earth)"
   ]
  },
  {
   "cell_type": "code",
   "execution_count": 9,
   "metadata": {},
   "outputs": [
    {
     "name": "stdout",
     "output_type": "stream",
     "text": [
      "Current distance between the Earth and the Sun in AU: 0.98825455576592\n"
     ]
    }
   ],
   "source": [
    "# The (Euclidean) distance should be around 1 AU. Why \"around\"? Well the Earth revolves the Sun in a slightly\n",
    "# non-perfect circle (elliptic orbit). First, we compute the distance in km.\n",
    "import numpy as np\n",
    "sun_earth_dist = np.linalg.norm(sun_earth[:3])\n",
    "\n",
    "# Convert the distance in astronomical units (1 AU)\n",
    "# Instead of searching for the \"most recent\" value, we use the default value in SPICE. This way, we can easily\n",
    "# compare our results with the results of others.\n",
    "sun_earth_dist_au = spiceypy.convrt(sun_earth_dist, 'km', 'AU')\n",
    "\n",
    "print('Current distance between the Earth and the Sun in AU:', sun_earth_dist_au)"
   ]
  },
  {
   "cell_type": "markdown",
   "metadata": {},
   "source": [
    "# Orbital speed of the Earth\n",
    "For this, we need the equation to determine the orbital speed. We assume that the Sun's mass is greater than the mass\n",
    "of the Earth and we assume that our planet is moving on an almost circular orbit. The orbit velocity $v_{\\text{orb}}$ can be approximated with, where $G$ is the gravitational constant, $M$ is the mass of the Sun and $r$ is the distance between the Earth and the Sun:\n",
    "\\begin{align}\n",
    "    v_{\\text{orb}}\\approx\\sqrt{\\frac{GM}{r}}\n",
    "\\end{align}"
   ]
  },
  {
   "cell_type": "code",
   "execution_count": 10,
   "metadata": {},
   "outputs": [
    {
     "name": "stdout",
     "output_type": "stream",
     "text": [
      "Current orbital speed of the Earth around the Sun in km/s: 30.13849166515453\n"
     ]
    }
   ],
   "source": [
    "# First, we compute the actual orbital speed of the Earth around the Sun\n",
    "sun_earth_speed = np.linalg.norm(sun_earth[3:])\n",
    "\n",
    "# It's around 30 km/s\n",
    "print('Current orbital speed of the Earth around the Sun in km/s:', sun_earth_speed)"
   ]
  },
  {
   "cell_type": "code",
   "execution_count": 11,
   "metadata": {},
   "outputs": [
    {
     "name": "stdout",
     "output_type": "stream",
     "text": [
      "Theoretical orbital speed of the Earth around the Sun in km/s: 29.96116516023395\n"
     ]
    }
   ],
   "source": [
    "# Now let's compute the theoretical expectation. First, we load a pck file that contain miscellanoeus information,\n",
    "# like the G*M values for different objects\n",
    "\n",
    "# First, load the kernel\n",
    "spiceypy.furnsh('../_kernels/pck/gm_de431.tpc')\n",
    "_, GM_SUN = spiceypy.bodvcd(bodyid=10, item='GM', maxn=1)\n",
    "\n",
    "# Now compute the orbital speed\n",
    "v_orb = lambda gm, r: np.sqrt(gm/r)\n",
    "sun_earth_speed_theory = v_orb(GM_SUN[0], sun_earth_dist)\n",
    "\n",
    "# Print the result\n",
    "print('Theoretical orbital speed of the Earth around the Sun in km/s:', sun_earth_speed_theory)"
   ]
  },
  {
   "cell_type": "code",
   "execution_count": null,
   "metadata": {},
   "outputs": [],
   "source": []
  }
 ],
 "metadata": {
  "kernelspec": {
   "display_name": "Python 3",
   "language": "python",
   "name": "python3"
  },
  "language_info": {
   "codemirror_mode": {
    "name": "ipython",
    "version": 3
   },
   "file_extension": ".py",
   "mimetype": "text/x-python",
   "name": "python",
   "nbconvert_exporter": "python",
   "pygments_lexer": "ipython3",
   "version": "3.11.6"
  }
 },
 "nbformat": 4,
 "nbformat_minor": 4
}
