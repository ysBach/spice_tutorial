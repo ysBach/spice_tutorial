{
 "cells": [
  {
   "cell_type": "markdown",
   "metadata": {},
   "source": [
    "# State Vector and Orbital Elements"
   ]
  },
  {
   "cell_type": "code",
   "execution_count": 7,
   "metadata": {},
   "outputs": [],
   "source": [
    "# Import the modules\n",
    "import urllib\n",
    "import warnings\n",
    "from pathlib import Path\n",
    "\n",
    "import numpy as np\n",
    "import spiceypy as sp\n",
    "from astropy.table import QTable\n",
    "from astropy.time import Time\n",
    "from astropy.utils.exceptions import AstropyWarning\n",
    "from astroquery.jplhorizons import Horizons\n",
    "from astroquery.jplsbdb import SBDB\n",
    "\n",
    "warnings.filterwarnings('ignore', append=True, category=AstropyWarning)\n",
    "\n",
    "def download_kernel(dl_path, dl_url):\n",
    "    \"\"\"Download kernel from the NASA NAIF repository\n",
    "\n",
    "    Parameters\n",
    "    ----------\n",
    "    dl_path : str\n",
    "        Download path on the local machine, relative to this function.\n",
    "    dl_url : str\n",
    "        Download url of the requested kernel file.\n",
    "    \"\"\"\n",
    "\n",
    "    # Make directory if it does not exist\n",
    "    dl_path = Path(dl_path)\n",
    "    dl_path.mkdir(exist_ok=True)\n",
    "    # Get the file name from the url\n",
    "    file_name = dl_url.split('/')[-1]\n",
    "\n",
    "    if not (dl_path/file_name).exists():\n",
    "        # Download the file with the urllib  package\n",
    "        urllib.request.urlretrieve(dl_url, dl_path/file_name)\n",
    "\n",
    "\n",
    "# Load the SPICE kernels via a meta file\n",
    "sp.furnsh('kernel_meta.txt')\n",
    "\n",
    "NOW_UTC = Time.now().utc\n",
    "NOW_ET = sp.utc2et(NOW_UTC.strftime('%Y-%m-%dT%H:%M:%S'))\n",
    "\n",
    "# Get the G*M value for the Sun\n",
    "_, GM_SUN = sp.bodvcd(bodyid=10, item='GM', maxn=1)\n",
    "GM_SUN = GM_SUN[0]"
   ]
  },
  {
   "cell_type": "markdown",
   "metadata": {},
   "source": [
    "## CODES 300 Asteroids bsp\n",
    "A not-very-accurate 300 asteroid bsp made in 2010 ([README](https://naif.jpl.nasa.gov/pub/naif/generic_kernels/spk/asteroids/AAREADME_Asteroids_SPKs.txt)).\n",
    "\n",
    "> We have left here a single SPK containing orbits for a set of 300 asteroids, the orbits for which were produced by Jim Baer in 2010 using his own CODES software. Some of these data may also be not very accurate. But the convenience of having data for 300 objects in a single SPK file could be useful for some purposes where high accuracy is not important. Read the *.cmt\" file for details about this collection.\n",
    "\n",
    "> Usage\n",
    ">\n",
    "> This file should be used together with the DE405 planetary ephemeris since the integration was done using the DE405 ephemeris and with the frames kernel defining the ``ECLIPJ2000_DE405'' frame.\n",
    ">\n",
    "> ...\n",
    "> \n",
    "> This frames kernel defines the Ecliptic and Equinox of the J2000 frame using the DE405 obliquity angle value (84381.412 arcseconds).\n",
    "\n",
    "Also see the detailed [explanation by Thomas](https://towardsdatascience.com/space-science-with-python-quite-around-the-sun-6faa206a1210).\n",
    "\n"
   ]
  },
  {
   "cell_type": "code",
   "execution_count": 2,
   "metadata": {},
   "outputs": [],
   "source": [
    "# Download the asteroids spk kernel file.\n",
    "download_kernel(\n",
    "    Path('../_kernels/spk/'),\n",
    "    'https://naif.jpl.nasa.gov/pub/naif/generic_kernels/spk/asteroids/codes_300ast_20100725.bsp'\n",
    ")\n",
    "\n",
    "# Download an auxiliary file from the repository that contains the NAIF ID\n",
    "# codes and a reference frame kernel that is needed. Since we have a mixture\n",
    "# of different kernel types we store the data in a sub-directory called _misc\n",
    "download_kernel(\n",
    "    Path('../_kernels/_misc/'),\n",
    "    \"https://naif.jpl.nasa.gov/pub/naif/generic_kernels/spk/asteroids/codes_300ast_20100725.tf\"\n",
    ")"
   ]
  },
  {
   "cell_type": "markdown",
   "metadata": {},
   "source": [
    "Considering Thomas's explanation, let's check if their ``ECLIPJ2000_DE405`` == ``ECLIPJ2000``.\n",
    "\n",
    "Note ``sxform`` gives 6x6 (for position & velocity) while ``pxform`` gives 3x3 (position only)."
   ]
  },
  {
   "cell_type": "code",
   "execution_count": 3,
   "metadata": {},
   "outputs": [
    {
     "name": "stdout",
     "output_type": "stream",
     "text": [
      "Transformation matrix between ECLIPJ2000_DE405 and ECLIPJ2000\n",
      "[[ 1.  0.  0.  0.  0.  0.]\n",
      " [ 0.  1.  0.  0.  0.  0.]\n",
      " [ 0. -0.  1.  0.  0.  0.]\n",
      " [ 0.  0.  0.  1.  0.  0.]\n",
      " [ 0.  0.  0.  0.  1.  0.]\n",
      " [ 0.  0.  0.  0. -0.  1.]]\n",
      "\n",
      "[[ 1.  0.  0.]\n",
      " [ 0.  1.  0.]\n",
      " [ 0. -0.  1.]]\n"
     ]
    }
   ],
   "source": [
    "R_DE405_J2000_6x6 = sp.sxform('ECLIPJ2000_DE405', 'ECLIPJ2000', et=NOW_ET)\n",
    "R_DE405_J2000_3x3 = sp.pxform('ECLIPJ2000_DE405', 'ECLIPJ2000', et=NOW_ET)\n",
    "\n",
    "print('Transformation matrix between ECLIPJ2000_DE405 and ECLIPJ2000')\n",
    "print(R_DE405_J2000_6x6.round(3))\n",
    "print()\n",
    "print(R_DE405_J2000_3x3.round(3))"
   ]
  },
  {
   "cell_type": "markdown",
   "metadata": {},
   "source": [
    "Indeed, **they are identity matrices** as expected, so ``ECLIPJ2000_DE405`` == ``ECLIPJ2000``.\n",
    "\n",
    "## Ceres State Vector and Orbital Elements\n",
    "\n",
    "Now, for practice,\n",
    "1. Get state vector of Ceres\n",
    "2. Convert it to orbital elements\n",
    "    * [``oscelt``](https://naif.jpl.nasa.gov/pub/naif/toolkit_docs/C/cspice/oscelt_c.html): orbital elements etc (8 values) \n",
    "    * [``oscltx``](https://naif.jpl.nasa.gov/pub/naif/toolkit_docs/C/cspice/oscltx_c.html): ``oscelt`` + 3 more (incl. orb. period) \n",
    "```\n",
    "        [0] RP      Perifocal distance. [km]\n",
    "        [1] ECC     Eccentricity.\n",
    "        [2] INC     Inclination.        [rad]\n",
    "        [3] LNODE   Longitude of the ascending node.  [rad]\n",
    "        [4] ARGP    Argument of periapsis.  [rad]\n",
    "        [5] M0      Mean anomaly at epoch.  [rad]\n",
    "        [6] T0      Epoch.\n",
    "        [7] MU      Gravitational parameter.\n",
    "        [8] NU      True anomaly at epoch.  [rad]\n",
    "        [9] A       Semi-major axis. 0 if it is not computable.  [km]\n",
    "        [10] TAU    Orbital period. 0 if not elliptical orbit.   [sec]\n",
    "```\n",
    "3. Compare with SBDB value\n",
    "4. Convert the orbital elements to the state vector and compare.\n",
    "    * [``conics``](https://naif.jpl.nasa.gov/pub/naif/toolkit_docs/C/cspice/conics_c.html): First 8 elems (``[:8]``) from above and ET as input."
   ]
  },
  {
   "cell_type": "code",
   "execution_count": 28,
   "metadata": {},
   "outputs": [
    {
     "name": "stdout",
     "output_type": "stream",
     "text": [
      "elem SPICE      HORIZONS    SBDB\n",
      "q    2.549      2.549      2.550      AU\n",
      "e    0.079      0.079      0.079     \n",
      "i    10.587     10.587     10.600     deg\n",
      "om   80.254     80.254     80.300     deg\n",
      "w    73.397     73.397     73.400     deg\n",
      "a    2.767      2.767      2.770      AU\n",
      "epoch 753991687.1828909 (unavailable from astroquery) 747835200.0004691\n",
      "\n",
      "\n",
      "Task #4: re-calculated state vector match the one from SPICE\n"
     ]
    }
   ],
   "source": [
    "ceres_sol, _lt = sp.spkgeo(targ=2000001, et=NOW_ET, ref='ECLIPJ2000', obs=10)\n",
    "_ceres_elt = sp.oscltx(state=ceres_sol, et=NOW_ET, mu=GM_SUN)\n",
    "ceres_elt = dict(zip(['q', 'e', 'i', 'om', 'w', 'm0', 't0', \"mu\", \"nu\", \"a\", \"per\"], _ceres_elt))\n",
    "ceres_elt['q'] = sp.convrt(ceres_elt['q'], 'km', 'au')\n",
    "ceres_elt['a'] = sp.convrt(ceres_elt['a'], 'km', 'au')\n",
    "ceres_elt['i'] = sp.convrt(ceres_elt['i'], 'radians', 'degrees')\n",
    "ceres_elt['om'] = sp.convrt(ceres_elt['om'], 'radians', 'degrees')\n",
    "ceres_elt['w'] = sp.convrt(ceres_elt['w'], 'radians', 'degrees')\n",
    "ceres_elt['per'] = sp.convrt(ceres_elt['per'], 'seconds', 'days')\n",
    "\n",
    "ceres_sbdb = SBDB.query('Ceres')\n",
    "ceres_hori = QTable(Horizons(id='1', location='500@10', epochs=NOW_UTC.jd, id_type='smallbody').elements())\n",
    "ceres_hori.rename_columns([\"incl\", \"Omega\"], [\"i\", \"om\"])\n",
    "\n",
    "print(\"elem SPICE      HORIZONS    SBDB\")\n",
    "for key, value in ceres_elt.items():\n",
    "    try:\n",
    "        print(f\"{key:<4s}\", f\"{value:<10.3f}\", f\"{ceres_hori[key][0].value:<10.3f}\", f\"{ceres_sbdb['orbit']['elements'][key]:<10.3f}\")\n",
    "    except KeyError:\n",
    "        continue\n",
    "print(\"epoch\", ceres_elt['t0'],\n",
    "      \"(unavailable from astroquery)\",\n",
    "      sp.utc2et(Time(ceres_sbdb['orbit']['epoch'], format=\"jd\", scale=\"tdb\").utc.iso))\n",
    "\n",
    "ceres_sol_test = np.array(sp.conics(_ceres_elt[:8], NOW_ET))\n",
    "\n",
    "np.testing.assert_array_almost_equal(ceres_sol, ceres_sol_test)\n",
    "print(\"\\n\\nTask #4: re-calculated state vector match the one from SPICE\")"
   ]
  },
  {
   "cell_type": "markdown",
   "metadata": {},
   "source": [
    "## Close Fly-by Object\n",
    "\n",
    "On spaceweather.com we can see that an asteroid has a close Earth fly-by:\n",
    "\n",
    "> 136795(1997BQ) on 2020-05-21 at a distance of 16.1 Lunar Distance\n",
    "\n",
    "1. What is the distance to the Earth at NOW_ET?\n",
    "2. Compare it with HORIZONS query"
   ]
  },
  {
   "cell_type": "code",
   "execution_count": 193,
   "metadata": {},
   "outputs": [
    {
     "data": {
      "text/latex": [
       "$2460200.5 \\; \\mathrm{d}$"
      ],
      "text/plain": [
       "<Quantity 2460200.5 d>"
      ]
     },
     "execution_count": 193,
     "metadata": {},
     "output_type": "execute_result"
    }
   ],
   "source": [
    "SBDB.query('136795')[\"orbit\"][\"epoch\"]"
   ]
  },
  {
   "cell_type": "code",
   "execution_count": 31,
   "metadata": {},
   "outputs": [
    {
     "name": "stdout",
     "output_type": "stream",
     "text": [
      "From SPICE    [LD] :  711.0185453010555\n",
      "From HORIZONS [LD] :  711.7682969046051\n"
     ]
    }
   ],
   "source": [
    "# On spaceweather.com we can see that an asteroid has a close Earth fly-by:\n",
    "# 136795(1997BQ) on 2020-May-21 at a distance of 16.1 Lunar Distance\n",
    "\n",
    "neo_elt_sbdb_epoch = SBDB.query('136795')['orbit']['epoch']\n",
    "neo_elt_sbdb = SBDB.query('136795')['orbit']['elements']\n",
    "neo_sol = np.array(sp.conics([\n",
    "    neo_elt_sbdb['q'].to_value(\"km\"),\n",
    "    neo_elt_sbdb['e'],\n",
    "    neo_elt_sbdb['i'].to_value(\"rad\"),\n",
    "    neo_elt_sbdb['om'].to_value(\"rad\"),\n",
    "    neo_elt_sbdb['w'].to_value(\"rad\"),\n",
    "    neo_elt_sbdb['ma'].to_value(\"rad\"),\n",
    "    # sp.str2et(Time(neo_elt_sbdb['tp'], format=\"jd\", scale=\"tdb\").strftime(\"%Y-%m-%d %H:%M:%S\") + \" TDB\"),  # already in TDB == ET\n",
    "    sp.utc2et(Time(neo_elt_sbdb_epoch, format=\"jd\", scale=\"tdb\").utc.iso),  # already in TDB == ET\n",
    "    GM_SUN],\n",
    "    NOW_ET\n",
    "))\n",
    "earth_sol, _lt = sp.spkgeo(399, et=NOW_ET, ref='ECLIPJ2000', obs=10)\n",
    "\n",
    "neo_horizons = Horizons(id='136795', epochs=[NOW_UTC.jd], id_type='smallbody').ephemerides()\n",
    "\n",
    "\n",
    "# Set one Lunar Distance (LD) in km (value from spaceweather.com)\n",
    "dist_ld = sp.vnorm(earth_sol[:3] - neo_sol[:3]) / 384401.0\n",
    "print(\"From SPICE    [LD] : \", dist_ld)\n",
    "print(\"From HORIZONS [LD] : \", neo_horizons['delta'].to(\"km\").value[0] / 384401.0)"
   ]
  }
 ],
 "metadata": {
  "kernelspec": {
   "display_name": "Python 3",
   "language": "python",
   "name": "python3"
  },
  "language_info": {
   "codemirror_mode": {
    "name": "ipython",
    "version": 3
   },
   "file_extension": ".py",
   "mimetype": "text/x-python",
   "name": "python",
   "nbconvert_exporter": "python",
   "pygments_lexer": "ipython3",
   "version": "3.11.6"
  }
 },
 "nbformat": 4,
 "nbformat_minor": 4
}
