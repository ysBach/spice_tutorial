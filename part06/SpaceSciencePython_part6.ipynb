{
 "cells": [
  {
   "cell_type": "code",
   "execution_count": 1,
   "metadata": {},
   "outputs": [],
   "source": [
    "# Import the modules\n",
    "import datetime\n",
    "import pathlib\n",
    "import urllib\n",
    "import os\n",
    "\n",
    "import numpy as np\n",
    "import spiceypy"
   ]
  },
  {
   "cell_type": "code",
   "execution_count": 2,
   "metadata": {},
   "outputs": [],
   "source": [
    "# We define a function that is useful for downloading SPICE\n",
    "# kernel files. Some kernels are large and cannot be uploaded on the GitHub\n",
    "# repository. Thus, this helper function shall support you for future kernel\n",
    "# management (if needed).\n",
    "def download_kernel(dl_path, dl_url):\n",
    "    \"\"\"\n",
    "    download_kernel(DL_PATH, DL_URL)\n",
    "\n",
    "    This helper function supports one to download kernel files from the NASA\n",
    "    NAIF repository and stores them in the _kernel directory.\n",
    "\n",
    "    Parameters\n",
    "    ----------\n",
    "    DL_PATH : str\n",
    "        Download path on the local machine, relative to this function.\n",
    "    DL_URL : str\n",
    "        Download url of the requested kernel file.\n",
    "    \"\"\"\n",
    "\n",
    "    # Obtain the kernel file name from the url string. The url is split at\n",
    "    # the \"/\", thus the very last entry of the resulting list is the file's\n",
    "    # name\n",
    "    file_name = dl_url.split('/')[-1]\n",
    "\n",
    "    # Create necessary sub-directories in the DL_PATH direction (if not\n",
    "    # existing)\n",
    "    pathlib.Path(dl_path).mkdir(exist_ok=True)\n",
    "\n",
    "    # If the file is not present in the download directory -> download it\n",
    "    if not os.path.isfile(dl_path + file_name):\n",
    "\n",
    "        # Download the file with the urllib  package\n",
    "        urllib.request.urlretrieve(dl_url, dl_path + file_name)"
   ]
  },
  {
   "cell_type": "code",
   "execution_count": 3,
   "metadata": {},
   "outputs": [],
   "source": [
    "# Download the asteroids spk kernel file. First, set a download path, then\n",
    "# the url and call the download function\n",
    "PATH = '../_kernels/spk/'\n",
    "URL = 'https://naif.jpl.nasa.gov/pub/naif/generic_kernels/spk/asteroids/' \\\n",
    "      + 'codes_300ast_20100725.bsp'\n",
    "\n",
    "download_kernel(PATH, URL)\n",
    "\n",
    "# Download an auxiliary file from the repository that contains the NAIF ID\n",
    "# codes and a reference frame kernel that is needed. Since we have a mixture\n",
    "# of different kernel types we store the data in a sub-directory called _misc\n",
    "PATH = '../_kernels/_misc/'\n",
    "URL = 'https://naif.jpl.nasa.gov/pub/naif/generic_kernels/spk/asteroids/' \\\n",
    "      + 'codes_300ast_20100725.tf'\n",
    "\n",
    "download_kernel(PATH, URL)"
   ]
  },
  {
   "cell_type": "code",
   "execution_count": 4,
   "metadata": {},
   "outputs": [],
   "source": [
    "# Load the SPICE kernels via a meta file\n",
    "spiceypy.furnsh('kernel_meta.txt')\n",
    "\n",
    "# Create an initial date-time object that is converted to a string\n",
    "DATETIME_UTC = datetime.datetime.now().strftime('%Y-%m-%dT%H:%M:%S')\n",
    "\n",
    "# Convert to Ephemeris Time (ET) using the SPICE function utc2et\n",
    "DATETIME_ET = spiceypy.utc2et(DATETIME_UTC)"
   ]
  },
  {
   "cell_type": "code",
   "execution_count": 5,
   "metadata": {},
   "outputs": [
    {
     "name": "stdout",
     "output_type": "stream",
     "text": [
      "Transformation matrix between ECLIPJ2000_DE405 and ECLIPJ2000\n",
      "[1. 0. 0. 0. 0. 0.]\n",
      "[0. 1. 0. 0. 0. 0.]\n",
      "[ 0. -0.  1.  0.  0.  0.]\n",
      "[0. 0. 0. 1. 0. 0.]\n",
      "[0. 0. 0. 0. 1. 0.]\n",
      "[ 0.  0.  0.  0. -0.  1.]\n",
      "\n",
      "\n"
     ]
    }
   ],
   "source": [
    "# ECLIPJ2000_DE405 and ECLIPJ2000 appear to be similar?! A transformation\n",
    "# matrix between both coordinate systems (for state vectors) should be\n",
    "# consequently the identity matrix\n",
    "MAT = spiceypy.sxform(instring='ECLIPJ2000_DE405', \\\n",
    "                      tostring='ECLIPJ2000', \\\n",
    "                      et=DATETIME_ET)\n",
    "\n",
    "# Let's print the transformation matrix row-wise (spoiler alert: it is the\n",
    "# identity matrix)\n",
    "print('Transformation matrix between ECLIPJ2000_DE405 and ECLIPJ2000')\n",
    "for mat_row in MAT:\n",
    "    print(f'{np.round(mat_row, 2)}')\n",
    "print('\\n')"
   ]
  },
  {
   "cell_type": "code",
   "execution_count": 6,
   "metadata": {},
   "outputs": [],
   "source": [
    "# Compute the state vector of Ceres in ECLIPJ2000 as seen from the Sun\n",
    "CERES_STATE_VECTOR, _ = spiceypy.spkgeo(targ=2000001, \\\n",
    "                                        et=DATETIME_ET, \\\n",
    "                                        ref='ECLIPJ2000',\n",
    "                                        obs=10)"
   ]
  },
  {
   "cell_type": "code",
   "execution_count": 7,
   "metadata": {},
   "outputs": [],
   "source": [
    "# Get the G*M value for the Sun\n",
    "_, GM_SUN_PRE = spiceypy.bodvcd(bodyid=10, item='GM', maxn=1)\n",
    "\n",
    "GM_SUN = GM_SUN_PRE[0]"
   ]
  },
  {
   "cell_type": "code",
   "execution_count": 8,
   "metadata": {},
   "outputs": [],
   "source": [
    "# Compute the orbital elements of Ceres using the computed state vector\n",
    "CERES_ORBITAL_ELEMENTS = spiceypy.oscltx(state=CERES_STATE_VECTOR, \\\n",
    "                                         et=DATETIME_ET, \\\n",
    "                                         mu=GM_SUN)\n",
    "\n",
    "# Set and convert the semi-major axis and perihelion from km to AU\n",
    "CERES_SEMI_MAJOR_AU = spiceypy.convrt(CERES_ORBITAL_ELEMENTS[9], \\\n",
    "                                      inunit='km', outunit='AU')\n",
    "CERES_PERIHELION_AU = spiceypy.convrt(CERES_ORBITAL_ELEMENTS[0], \\\n",
    "                                      inunit='km', outunit='AU')\n",
    "\n",
    "# Set the eccentricity\n",
    "CERES_ECC = CERES_ORBITAL_ELEMENTS[1]\n",
    "\n",
    "# Set and convert miscellaneous angular values from radians to degrees:\n",
    "# inc: Inclination\n",
    "# lnode: Longitude of ascending node\n",
    "# argp: Argument of perihelion\n",
    "CERES_INC_DEG = np.degrees(CERES_ORBITAL_ELEMENTS[2])\n",
    "CERES_LNODE_DEG = np.degrees(CERES_ORBITAL_ELEMENTS[3])\n",
    "CERES_ARGP_DEG = np.degrees(CERES_ORBITAL_ELEMENTS[4])\n",
    "\n",
    "# Set the orbit period. Convert from seconds to years\n",
    "CERES_ORB_TIME_YEARS = CERES_ORBITAL_ELEMENTS[10] / (86400.0 * 365.0)"
   ]
  },
  {
   "cell_type": "code",
   "execution_count": 9,
   "metadata": {},
   "outputs": [
    {
     "name": "stdout",
     "output_type": "stream",
     "text": [
      "Ceres' Orbital Elements\n",
      "Semi-major axis in AU: 2.77 (MPC: 2.77)\n",
      "Perihelion in AU: 2.55 (MPC: 2.56)\n",
      "Eccentricity: 0.08 (MPC: 0.08)\n",
      "Inclination in degrees: 10.6 (MPC: 10.6)\n",
      "Long. of. asc. node in degrees: 80.3 (MPC: 80.3)\n",
      "Argument of perih. in degrees: 73.7 (MPC: 73.6)\n",
      "Orbit period in years: 4.61 (MPC: 4.61)\n",
      "\n",
      "\n"
     ]
    }
   ],
   "source": [
    "# Compare the results with the data from the Minor Planet Center\n",
    "# https://www.minorplanetcenter.net/dwarf_planets\n",
    "\n",
    "# Print the results next to the MPC results\n",
    "print('Ceres\\' Orbital Elements')\n",
    "print(f'Semi-major axis in AU: {round(CERES_SEMI_MAJOR_AU, 2)} (MPC: 2.77)')\n",
    "print(f'Perihelion in AU: {round(CERES_PERIHELION_AU, 2)} (MPC: 2.56)')\n",
    "\n",
    "print(f'Eccentricity: {round(CERES_ECC, 2)} (MPC: 0.08)')\n",
    "\n",
    "print(f'Inclination in degrees: {round(CERES_INC_DEG, 1)} (MPC: 10.6)')\n",
    "print(f'Long. of. asc. node in degrees: {round(CERES_LNODE_DEG, 1)} ' \\\n",
    "      '(MPC: 80.3)')\n",
    "print(f'Argument of perih. in degrees: {round(CERES_ARGP_DEG, 1)} ' \\\n",
    "      '(MPC: 73.6)')\n",
    "\n",
    "print(f'Orbit period in years: {round(CERES_ORB_TIME_YEARS, 2)} ' \\\n",
    "      '(MPC: 4.61)')\n",
    "print('\\n')"
   ]
  },
  {
   "cell_type": "code",
   "execution_count": 10,
   "metadata": {},
   "outputs": [
    {
     "name": "stdout",
     "output_type": "stream",
     "text": [
      "State vector of Ceres from the kernel:\n",
      "[ 3.08931423e+08 -3.12041244e+08 -6.67649000e+07  1.18818726e+01\n",
      "  1.15144519e+01 -1.82633615e+00]\n",
      "State vector of Ceres based on the determined orbital elements:\n",
      "[ 3.08931423e+08 -3.12041244e+08 -6.67649000e+07  1.18818726e+01\n",
      "  1.15144519e+01 -1.82633615e+00]\n",
      "\n",
      "\n"
     ]
    }
   ],
   "source": [
    "# Convert the orbital elements back to the state vector\n",
    "CERES_STATE_RE = spiceypy.conics([CERES_ORBITAL_ELEMENTS[0], \\\n",
    "                                  CERES_ORBITAL_ELEMENTS[1], \\\n",
    "                                  CERES_ORBITAL_ELEMENTS[2], \\\n",
    "                                  CERES_ORBITAL_ELEMENTS[3], \\\n",
    "                                  CERES_ORBITAL_ELEMENTS[4], \\\n",
    "                                  CERES_ORBITAL_ELEMENTS[5], \\\n",
    "                                  CERES_ORBITAL_ELEMENTS[6], \\\n",
    "                                  GM_SUN], DATETIME_ET)\n",
    "\n",
    "print('State vector of Ceres from the kernel:\\n' \\\n",
    "      f'{CERES_STATE_VECTOR}')\n",
    "print('State vector of Ceres based on the determined orbital elements:\\n' \\\n",
    "      f'{CERES_STATE_RE}')\n",
    "print('\\n')"
   ]
  },
  {
   "cell_type": "code",
   "execution_count": 11,
   "metadata": {},
   "outputs": [
    {
     "name": "stdout",
     "output_type": "stream",
     "text": [
      "SOI of the Earth in LD: 2.4054224328225597\n",
      "\n",
      "\n"
     ]
    }
   ],
   "source": [
    "# On spaceweather.com we can see that an asteroid has a close Earth fly-by:\n",
    "# 136795(1997BQ) on 2020-May-21 at a distance of 16.1 Lunar Distance\n",
    "#\n",
    "# Will the encounter alter the orbit of the asteroid? Let's have a first look\n",
    "# on the so-called sphere of influence (SOI) of our planet.\n",
    "# A simple model assumes that the SOI is a sphere. The semi major axis is set\n",
    "# to 1 AU:\n",
    "\n",
    "# 1 AU in km\n",
    "ONE_AU = spiceypy.convrt(x=1, inunit='AU', outunit='km')\n",
    "\n",
    "# Set the G*M parameter of our planet\n",
    "_, GM_EARTH_PRE = spiceypy.bodvcd(bodyid=399, item='GM', maxn=1)\n",
    "GM_EARTH = GM_EARTH_PRE[0]\n",
    "\n",
    "# Compute the SOI radius of the Earth\n",
    "SOI_EARTH_R = ONE_AU * (GM_EARTH/GM_SUN) ** (2.0/5.0)\n",
    "\n",
    "# Set one Lunar Distance (LD) in km (value from spaceweather.com)\n",
    "ONE_LD = 384401.0\n",
    "\n",
    "print(f'SOI of the Earth in LD: {SOI_EARTH_R/ONE_LD}')\n",
    "print('\\n')"
   ]
  },
  {
   "cell_type": "code",
   "execution_count": 12,
   "metadata": {},
   "outputs": [],
   "source": [
    "# Now we can compute the current position of the object. We obtain the orbit\n",
    "# elements data from https://ssd.jpl.nasa.gov/sbdb.cgi?sstr=136795\n",
    "\n",
    "# Before we compute a state vector of the asteroid and the current distance\n",
    "# to our home planet we need to define a function to round the data. A common\n",
    "# convention for scientific work is to round the data to two significant\n",
    "# digits. We create a lambda function that rounds the values based on the\n",
    "# provided measurement error\n",
    "round_sig = lambda value, err: np.round(value, \\\n",
    "                                        -1*(int(np.floor(np.log10(err))))+1)"
   ]
  },
  {
   "cell_type": "code",
   "execution_count": 13,
   "metadata": {},
   "outputs": [],
   "source": [
    "# Set now the perihelion in km\n",
    "NEO_1997BQ_PERIHELION_KM = spiceypy.convrt(round_sig(0.9109776989775201, \\\n",
    "                                                     9.5537e-08), \\\n",
    "                                           inunit='AU', outunit='km')\n",
    "\n",
    "# Set the eccentricity\n",
    "NEO_1997BQ_ECC = round_sig(0.4786097161397527, 5.364e-08)\n",
    "\n",
    "# Set the inclination, longitude of ascending node and argument of periapsis\n",
    "# in radians\n",
    "NEO_1997BQ_INC_RAD = np.radians(round_sig(10.99171566990081, 7.6286e-06))\n",
    "NEO_1997BQ_LNODE_RAD = np.radians(round_sig(50.19104637224941, 3.6206e-05))\n",
    "NEO_1997BQ_ARGP_RAD = np.radians(round_sig(147.4553849006326, 3.6033e-05))\n",
    "\n",
    "# Set the mean anomaly and corresponding epoch in Julian Date (JD)\n",
    "NEO_1997BQ_M0_AT_T0_RAD = np.radians(round_sig(17.87249899172771, 1.0297e-05))\n",
    "NEO_1997BQ_T0 = spiceypy.utc2et('2459000.5 JD')"
   ]
  },
  {
   "cell_type": "code",
   "execution_count": 14,
   "metadata": {},
   "outputs": [
    {
     "name": "stdout",
     "output_type": "stream",
     "text": [
      "Current state vector of 1997BQ in km and km/s (2020-05-09T16:19:44)):\n",
      "[-9.94034751e+07 -1.00682158e+08  2.31141665e+06  2.14511909e+01\n",
      " -2.93417563e+01 -6.84931964e+00]\n",
      "\n",
      "\n"
     ]
    }
   ],
   "source": [
    "# Set the orbital elements array\n",
    "NEO_1997BQ_ORBITAL_ELEMENTS = [NEO_1997BQ_PERIHELION_KM, \\\n",
    "                               NEO_1997BQ_ECC, \\\n",
    "                               NEO_1997BQ_INC_RAD, \\\n",
    "                               NEO_1997BQ_LNODE_RAD, \\\n",
    "                               NEO_1997BQ_ARGP_RAD, \\\n",
    "                               NEO_1997BQ_M0_AT_T0_RAD, \\\n",
    "                               NEO_1997BQ_T0, \\\n",
    "                               GM_SUN]\n",
    "\n",
    "# Compute the state vector\n",
    "NEO_1997BQ_STATE_VECTOR = spiceypy.conics(NEO_1997BQ_ORBITAL_ELEMENTS, DATETIME_ET)\n",
    "\n",
    "print(f'Current state vector of 1997BQ in km and km/s ({DATETIME_UTC})):\\n' \\\n",
    "      f'{NEO_1997BQ_STATE_VECTOR}')\n",
    "print('\\n')"
   ]
  },
  {
   "cell_type": "code",
   "execution_count": 15,
   "metadata": {},
   "outputs": [
    {
     "name": "stdout",
     "output_type": "stream",
     "text": [
      "Current distance between the Earth and 1997BQ (2020-05-09T16:19:44):\n",
      "36.17441667066858 LD\n"
     ]
    }
   ],
   "source": [
    "# Now compute the state vector of the Earth:\n",
    "EARTH_STATE_VECTOR, _ = spiceypy.spkgeo(targ=399, \\\n",
    "                                        et=DATETIME_ET, \\\n",
    "                                        ref='ECLIPJ2000',\n",
    "                                        obs=10)\n",
    "\n",
    "# Compute the current distance of the Earth and the asteroids in LD\n",
    "EARTH_1997BQ_DIST_KM = spiceypy.vnorm(EARTH_STATE_VECTOR[:3] \\\n",
    "                                      - NEO_1997BQ_STATE_VECTOR[:3])\n",
    "print(f'Current distance between the Earth and 1997BQ ({DATETIME_UTC}):\\n' \\\n",
    "      f'{EARTH_1997BQ_DIST_KM / ONE_LD} LD')"
   ]
  }
 ],
 "metadata": {
  "kernelspec": {
   "display_name": "Python 3",
   "language": "python",
   "name": "python3"
  },
  "language_info": {
   "codemirror_mode": {
    "name": "ipython",
    "version": 3
   },
   "file_extension": ".py",
   "mimetype": "text/x-python",
   "name": "python",
   "nbconvert_exporter": "python",
   "pygments_lexer": "ipython3",
   "version": "3.8.2"
  }
 },
 "nbformat": 4,
 "nbformat_minor": 4
}
